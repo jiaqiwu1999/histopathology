{
 "cells": [
  {
   "cell_type": "code",
   "execution_count": 25,
   "id": "287957e6-21b8-4665-864a-0fca30e41d01",
   "metadata": {},
   "outputs": [],
   "source": [
    "import os\n",
    "import pandas as pd\n",
    "import numpy as np\n",
    "import subprocess\n",
    "import glob\n",
    "import shutil\n",
    "from pathlib import Path"
   ]
  },
  {
   "cell_type": "code",
   "execution_count": 2,
   "id": "fac97427-15d0-4bb7-9eda-95a10bfd609d",
   "metadata": {},
   "outputs": [
    {
     "name": "stdout",
     "output_type": "stream",
     "text": [
      "/home/jupyter\n"
     ]
    }
   ],
   "source": [
    "%cd /home/jupyter"
   ]
  },
  {
   "cell_type": "code",
   "execution_count": 6,
   "id": "d2737af6-018b-4823-96f4-f28dc41dafa0",
   "metadata": {},
   "outputs": [
    {
     "name": "stdout",
     "output_type": "stream",
     "text": [
      "\u001b[0m\u001b[01;34mdata\u001b[0m/  \u001b[01;32mgdc-client\u001b[0m*  \u001b[01;34mmodels\u001b[0m/  \u001b[01;34mperformance\u001b[0m/  \u001b[01;34mpreprocessing\u001b[0m/  \u001b[01;34msrc\u001b[0m/  \u001b[01;34mtutorials\u001b[0m/\n"
     ]
    }
   ],
   "source": [
    "%ls"
   ]
  },
  {
   "cell_type": "code",
   "execution_count": 19,
   "id": "5655064d-9de1-43a4-8892-90650fb0feef",
   "metadata": {},
   "outputs": [
    {
     "name": "stdout",
     "output_type": "stream",
     "text": [
      "100% [############################################] Time:  0:00:41  34.4 MiB/s \n",
      "100% [############################################] Time:  0:00:23  31.7 MiB/s \n",
      "100% [############################################] Time:  0:01:10  35.0 MiB/s \n",
      "100% [############################################] Time:  0:01:02  35.0 MiB/s \n",
      "100% [############################################] Time:  0:00:49  33.1 MiB/s \n",
      "100% [############################################] Time:  0:00:23  33.8 MiB/s \n",
      "100% [############################################] Time:  0:00:24  33.7 MiB/s \n",
      "100% [############################################] Time:  0:00:23  34.1 MiB/s \n",
      "100% [############################################] Time:  0:00:45  33.7 MiB/s \n",
      "100% [############################################] Time:  0:00:43  33.7 MiB/s \n",
      "100% [############################################] Time:  0:00:32  34.3 MiB/s \n",
      "100% [############################################] Time:  0:00:53  32.8 MiB/s \n",
      "100% [############################################] Time:  0:00:02  26.4 MiB/s \n",
      "100% [############################################] Time:  0:00:44  34.0 MiB/s \n",
      "100% [############################################] Time:  0:00:23  33.9 MiB/s \n",
      "100% [############################################] Time:  0:00:19  33.3 MiB/s \n",
      "100% [############################################] Time:  0:00:13  33.4 MiB/s \n",
      "100% [############################################] Time:  0:00:40  33.5 MiB/s \n",
      "100% [############################################] Time:  0:00:34  33.6 MiB/s \n",
      "100% [############################################] Time:  0:00:37  33.4 MiB/s \n",
      "\u001b[32mSuccessfully downloaded\u001b[0m: 20\n"
     ]
    }
   ],
   "source": [
    "!./gdc-client download -m data/gdc_manifest_slides.txt"
   ]
  },
  {
   "cell_type": "code",
   "execution_count": 20,
   "id": "35c929d7-375c-4993-843f-95337e0aa10a",
   "metadata": {},
   "outputs": [
    {
     "data": {
      "text/plain": [
       "array([['8d5f3c2d-38ed-41dd-a4b2-93a3fee7f07a',\n",
       "        'TCGA-OL-A66L-01Z-00-DX1.E01BA275-57A5-49DF-9376-1AD0BDFFF7E2.svs',\n",
       "        '593fa33ffef87cc482fc06b9b2afee3c', 2280251720, 'validated'],\n",
       "       ['0070d4e9-f838-4ee9-a48b-c894b3b86440',\n",
       "        'TCGA-A2-A25A-01Z-00-DX1.6D311E39-9F96-4775-B9DA-8D034D1AD1DC.svs',\n",
       "        'abbea79878adbb927968e3f8ff8dd23f', 1543151451, 'validated'],\n",
       "       ['64750d75-af48-416f-802f-78302509dcb8',\n",
       "        'TCGA-D8-A1XW-01Z-00-DX2.9849E503-BE3E-417C-ABE8-93A39583DDE0.svs',\n",
       "        'b30aa8abb1464d9e45730f687c2accfb', 1840162565, 'validated']],\n",
       "      dtype=object)"
      ]
     },
     "execution_count": 20,
     "metadata": {},
     "output_type": "execute_result"
    }
   ],
   "source": [
    "slide_info = pd.read_csv('./data/gdc_manifest_slides.txt', sep='\\t', header=0)\n",
    "folder_file_pairs = slide_info.values\n",
    "folder_file_pairs[:3]"
   ]
  },
  {
   "cell_type": "code",
   "execution_count": 14,
   "id": "baaef5bd-cf11-49d9-a61f-6cc82caff7f5",
   "metadata": {},
   "outputs": [
    {
     "data": {
      "text/plain": [
       "'/home/jupyter'"
      ]
     },
     "execution_count": 14,
     "metadata": {},
     "output_type": "execute_result"
    }
   ],
   "source": [
    "%pwd"
   ]
  },
  {
   "cell_type": "code",
   "execution_count": 22,
   "id": "77c60dc2-309b-449b-84a9-757afc71b4e0",
   "metadata": {},
   "outputs": [],
   "source": [
    "root = Path('.')\n",
    "dest = Path('./data/slides/')\n",
    "if dest.exists():\n",
    "    shutil.rmtree(dest)\n",
    "dest.mkdir()\n",
    "patient_ids = []\n",
    "for pair in folder_file_pairs:\n",
    "    folder = pair[0]\n",
    "    fname = pair[1]\n",
    "    patient = fname.split('.')[0][:12]\n",
    "    d = dest/patient\n",
    "    if not d.exists():\n",
    "        d.mkdir()\n",
    "    file = root/folder/fname\n",
    "    shutil.move(str(file), str(d))\n",
    "    \n",
    "    patient_ids.append(patient)\n",
    "    shutil.rmtree(root/folder)"
   ]
  },
  {
   "cell_type": "code",
   "execution_count": 31,
   "id": "f822049b-958a-487d-9bce-49a2112b78d9",
   "metadata": {},
   "outputs": [],
   "source": [
    "with open('./data/patients_ids.txt', 'w') as fwrite:\n",
    "    for p in patient_ids:\n",
    "        fwrite.write(p)\n",
    "        fwrite.write('\\n')"
   ]
  },
  {
   "cell_type": "code",
   "execution_count": null,
   "id": "992ffcdb-282e-4014-896e-428daeb38acc",
   "metadata": {},
   "outputs": [],
   "source": []
  }
 ],
 "metadata": {
  "environment": {
   "kernel": "python3",
   "name": "common-cu110.m91",
   "type": "gcloud",
   "uri": "gcr.io/deeplearning-platform-release/base-cu110:m91"
  },
  "kernelspec": {
   "display_name": "Python 3",
   "language": "python",
   "name": "python3"
  },
  "language_info": {
   "codemirror_mode": {
    "name": "ipython",
    "version": 3
   },
   "file_extension": ".py",
   "mimetype": "text/x-python",
   "name": "python",
   "nbconvert_exporter": "python",
   "pygments_lexer": "ipython3",
   "version": "3.7.12"
  }
 },
 "nbformat": 4,
 "nbformat_minor": 5
}
