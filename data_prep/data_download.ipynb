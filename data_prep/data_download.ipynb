{
 "cells": [
  {
   "cell_type": "code",
   "execution_count": 1,
   "id": "287957e6-21b8-4665-864a-0fca30e41d01",
   "metadata": {},
   "outputs": [],
   "source": [
    "import os\n",
    "import pandas as pd\n",
    "import numpy as np\n",
    "import subprocess\n",
    "import glob\n",
    "import shutil\n",
    "from pathlib import Path"
   ]
  },
  {
   "cell_type": "code",
   "execution_count": 2,
   "id": "fac97427-15d0-4bb7-9eda-95a10bfd609d",
   "metadata": {},
   "outputs": [
    {
     "name": "stdout",
     "output_type": "stream",
     "text": [
      "/home/jupyter\n"
     ]
    }
   ],
   "source": [
    "# only used on cloud platform\n",
    "# %cd /home/jupyter"
   ]
  },
  {
   "cell_type": "code",
   "execution_count": 6,
   "id": "d2737af6-018b-4823-96f4-f28dc41dafa0",
   "metadata": {},
   "outputs": [
    {
     "name": "stdout",
     "output_type": "stream",
     "text": [
      "\u001b[0m\u001b[01;34mdata\u001b[0m/  \u001b[01;32mgdc-client\u001b[0m*  \u001b[01;34mmodels\u001b[0m/  \u001b[01;34mperformance\u001b[0m/  \u001b[01;34mpreprocessing\u001b[0m/  \u001b[01;34msrc\u001b[0m/  \u001b[01;34mtutorials\u001b[0m/\n"
     ]
    }
   ],
   "source": [
    "%ls"
   ]
  },
  {
   "cell_type": "code",
   "execution_count": 5,
   "id": "5655064d-9de1-43a4-8892-90650fb0feef",
   "metadata": {},
   "outputs": [],
   "source": [
    "!./gdc-client download -m gdc_manifest.txt"
   ]
  },
  {
   "cell_type": "code",
   "execution_count": 2,
   "id": "35c929d7-375c-4993-843f-95337e0aa10a",
   "metadata": {},
   "outputs": [
    {
     "data": {
      "text/plain": [
       "array(['8ff6e59c-e68d-4344-b1c6-4311c2969a91',\n",
       "       'TCGA-DK-A2I6-01Z-00-DX1.7BF86D3B-D4F7-47F9-B021-7FD6B673A238.svs',\n",
       "       '5f97361a32fdd51ea39ffa928d19e162', 1780414109, 'validated'],\n",
       "      dtype=object)"
      ]
     },
     "execution_count": 2,
     "metadata": {},
     "output_type": "execute_result"
    }
   ],
   "source": [
    "slide_info = pd.read_csv('gdc_manifest.txt', sep='\\t', header=0)\n",
    "folder_file_pairs = slide_info.values\n",
    "folder_file_pairs"
   ]
  },
  {
   "cell_type": "code",
   "execution_count": 14,
   "id": "baaef5bd-cf11-49d9-a61f-6cc82caff7f5",
   "metadata": {},
   "outputs": [
    {
     "data": {
      "text/plain": [
       "'/home/jupyter'"
      ]
     },
     "execution_count": 14,
     "metadata": {},
     "output_type": "execute_result"
    }
   ],
   "source": [
    "%pwd"
   ]
  },
  {
   "cell_type": "code",
   "execution_count": 7,
   "id": "77c60dc2-309b-449b-84a9-757afc71b4e0",
   "metadata": {},
   "outputs": [
    {
     "name": "stdout",
     "output_type": "stream",
     "text": [
      "8ff6e59c-e68d-4344-b1c6-4311c2969a91/TCGA-DK-A2I6-01Z-00-DX1.7BF86D3B-D4F7-47F9-B021-7FD6B673A238.svs\n",
      "../slide_data/TCGA-DK-A2I6-01\n"
     ]
    }
   ],
   "source": [
    "dest = Path('../slide_data/')\n",
    "src = Path('.')\n",
    "if dest.exists():\n",
    "    shutil.rmtree(dest)\n",
    "dest.mkdir()\n",
    "patient_ids = []\n",
    "for pair in folder_file_pairs[1:]:\n",
    "    folder = pair[0]\n",
    "    fname = pair[1]\n",
    "    patient = fname.split('.')[0][:15]\n",
    "    d = dest/patient\n",
    "    if not d.exists():\n",
    "        d.mkdir()\n",
    "    file = src/folder/fname\n",
    "    print(file)\n",
    "    print(d)\n",
    "    shutil.copy(file, d)\n",
    "    \n",
    "    patient_ids.append(patient)\n",
    "    # shutil.rmtree(src/folder)"
   ]
  },
  {
   "cell_type": "code",
   "execution_count": 8,
   "id": "9bacf624",
   "metadata": {},
   "outputs": [],
   "source": [
    "shutil.rmtree('8ff6e59c-e68d-4344-b1c6-4311c2969a91')"
   ]
  },
  {
   "cell_type": "code",
   "execution_count": 31,
   "id": "f822049b-958a-487d-9bce-49a2112b78d9",
   "metadata": {},
   "outputs": [],
   "source": [
    "with open('./patients_id_all.txt', 'w') as fwrite:\n",
    "    for p in patient_ids:\n",
    "        fwrite.write(p)\n",
    "        fwrite.write('\\n')"
   ]
  },
  {
   "cell_type": "code",
   "execution_count": null,
   "id": "992ffcdb-282e-4014-896e-428daeb38acc",
   "metadata": {},
   "outputs": [],
   "source": []
  }
 ],
 "metadata": {
  "environment": {
   "kernel": "python3",
   "name": "common-cu110.m91",
   "type": "gcloud",
   "uri": "gcr.io/deeplearning-platform-release/base-cu110:m91"
  },
  "kernelspec": {
   "display_name": "Python 3 (ipykernel)",
   "language": "python",
   "name": "python3"
  },
  "language_info": {
   "codemirror_mode": {
    "name": "ipython",
    "version": 3
   },
   "file_extension": ".py",
   "mimetype": "text/x-python",
   "name": "python",
   "nbconvert_exporter": "python",
   "pygments_lexer": "ipython3",
   "version": "3.10.6"
  }
 },
 "nbformat": 4,
 "nbformat_minor": 5
}
