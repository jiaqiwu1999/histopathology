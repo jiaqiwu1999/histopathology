{
 "cells": [
  {
   "cell_type": "code",
   "execution_count": 56,
   "id": "287957e6-21b8-4665-864a-0fca30e41d01",
   "metadata": {},
   "outputs": [],
   "source": [
    "import os\n",
    "import pandas as pd\n",
    "import subprocess\n",
    "import glob\n",
    "import shutil\n",
    "from pathlib import Path"
   ]
  },
  {
   "cell_type": "code",
   "execution_count": 28,
   "id": "fac97427-15d0-4bb7-9eda-95a10bfd609d",
   "metadata": {},
   "outputs": [
    {
     "name": "stdout",
     "output_type": "stream",
     "text": [
      "/home/jupyter\n"
     ]
    }
   ],
   "source": [
    "%cd /home/jupyter"
   ]
  },
  {
   "cell_type": "code",
   "execution_count": 29,
   "id": "35c929d7-375c-4993-843f-95337e0aa10a",
   "metadata": {},
   "outputs": [
    {
     "data": {
      "text/plain": [
       "array([['TCGA-3C-AALI-01Z-00-DX2',\n",
       "        'd46167af-6c29-49c7-95cf-3a801181aca4'],\n",
       "       ['TCGA-3C-AALJ-01Z-00-DX1',\n",
       "        '6a7477b1-86f3-473f-9bf1-174a758142e9'],\n",
       "       ['TCGA-3C-AALK-01Z-00-DX1',\n",
       "        '0c0d2afe-a7ca-4b16-9ea8-37e478728d11'],\n",
       "       ['TCGA-5T-A9QA-01Z-00-DX1',\n",
       "        'cfe3c99d-0c00-4360-b768-2cb4fbd1040a'],\n",
       "       ['TCGA-A1-A0SB-01Z-00-DX1',\n",
       "        'cea82b7d-135a-49d5-b4f6-3fb0215f7188']], dtype=object)"
      ]
     },
     "execution_count": 29,
     "metadata": {},
     "output_type": "execute_result"
    }
   ],
   "source": [
    "slide_info = pd.read_csv('./data/slide_info.txt', header=0)\n",
    "patient_uuid_pairs = slide_info.values\n",
    "patient_uuid_pairs"
   ]
  },
  {
   "cell_type": "code",
   "execution_count": 66,
   "id": "77c60dc2-309b-449b-84a9-757afc71b4e0",
   "metadata": {},
   "outputs": [
    {
     "name": "stdout",
     "output_type": "stream",
     "text": [
      "100% [############################################] Time:  0:00:57  34.3 MiB/s \n",
      "\u001b[32mSuccessfully downloaded\u001b[0m: 1\n",
      "Patient not exists, creating new folder..\n",
      "100% [############################################] Time:  0:00:13  32.7 MiB/s \n",
      "\u001b[32mSuccessfully downloaded\u001b[0m: 1\n",
      "Patient not exists, creating new folder..\n",
      "100% [############################################] Time:  0:00:57  34.2 MiB/s \n",
      "\u001b[32mSuccessfully downloaded\u001b[0m: 1\n",
      "Patient not exists, creating new folder..\n",
      "100% [############################################] Time:  0:00:22  31.1 MiB/s \n",
      "\u001b[32mSuccessfully downloaded\u001b[0m: 1\n",
      "Patient not exists, creating new folder..\n"
     ]
    }
   ],
   "source": [
    "path = Path('./data/slides/')\n",
    "if path.exists():\n",
    "    shutil.rmtree(path)\n",
    "path.mkdir()\n",
    "patient_ids = []\n",
    "for pair in patient_uuid_pairs[1:]:\n",
    "    patient = pair[0].split('.')[0][:12]\n",
    "    patient_ids.append(patient)\n",
    "    id_ = pair[1]\n",
    "    cmd = ['./gdc-client', 'download', id_]\n",
    "    p = subprocess.Popen(cmd)\n",
    "    (output, err) = p.communicate()  \n",
    "    p_status = p.wait()\n",
    "    if (p_status != 0):\n",
    "        print(\"Something wrong with gdc-client, check if it exists!\")\n",
    "    dest = path/patient\n",
    "    if dest.exists():\n",
    "        print(\"Patient exists, adding to it..\")\n",
    "    else:\n",
    "        print(\"Patient not exists, creating new folder..\")\n",
    "        dest.mkdir()\n",
    "    t = glob.glob(f'./{id_}/TCGA*')[0]\n",
    "    shutil.move(t, dest)\n",
    "    shutil.rmtree(f'{id_}')"
   ]
  },
  {
   "cell_type": "code",
   "execution_count": null,
   "id": "f822049b-958a-487d-9bce-49a2112b78d9",
   "metadata": {},
   "outputs": [],
   "source": [
    "numpy.savetxt('patient_ids.csv', np.asarray(patient_ids), delimiter=',')"
   ]
  },
  {
   "cell_type": "code",
   "execution_count": null,
   "id": "992ffcdb-282e-4014-896e-428daeb38acc",
   "metadata": {},
   "outputs": [],
   "source": []
  }
 ],
 "metadata": {
  "environment": {
   "kernel": "python3",
   "name": "common-cu110.m91",
   "type": "gcloud",
   "uri": "gcr.io/deeplearning-platform-release/base-cu110:m91"
  },
  "kernelspec": {
   "display_name": "Python 3",
   "language": "python",
   "name": "python3"
  },
  "language_info": {
   "codemirror_mode": {
    "name": "ipython",
    "version": 3
   },
   "file_extension": ".py",
   "mimetype": "text/x-python",
   "name": "python",
   "nbconvert_exporter": "python",
   "pygments_lexer": "ipython3",
   "version": "3.7.12"
  }
 },
 "nbformat": 4,
 "nbformat_minor": 5
}
