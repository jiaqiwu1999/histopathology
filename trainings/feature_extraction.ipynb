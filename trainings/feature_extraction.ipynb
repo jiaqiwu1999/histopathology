{
 "cells": [
  {
   "cell_type": "code",
   "execution_count": 1,
   "id": "df357d0e-21e1-4440-8e7c-d4889e63af0c",
   "metadata": {
    "tags": []
   },
   "outputs": [],
   "source": [
    "import numpy as np\n",
    "import os\n",
    "import torchvision.transforms as transforms\n",
    "from models import *\n",
    "from PIL import Image, ImageOps\n",
    "from imageio import imread\n",
    "from pathlib import Path\n",
    "from matplotlib import pyplot as plt\n",
    "\n",
    "os.environ['cuda_visible_devices'] = '0'"
   ]
  },
  {
   "cell_type": "code",
   "execution_count": 2,
   "id": "9fbb5c84-8942-4da5-bd55-88f0cf1b34a7",
   "metadata": {},
   "outputs": [],
   "source": [
    "if torch.cuda.is_available():\n",
    "    print(\"gpu found\")\n",
    "    device = 'cuda:0'\n",
    "else:\n",
    "    device = 'cpu'"
   ]
  },
  {
   "cell_type": "code",
   "execution_count": 3,
   "id": "4af9bb0d-d69f-47d1-91a0-e8326f12f499",
   "metadata": {},
   "outputs": [],
   "source": [
    "torch.cuda.empty_cache()"
   ]
  },
  {
   "cell_type": "code",
   "execution_count": 4,
   "id": "bb3c73a1-a04a-4de0-b1bc-7fda0e3bdfcd",
   "metadata": {},
   "outputs": [
    {
     "data": {
      "text/plain": [
       "0"
      ]
     },
     "execution_count": 4,
     "metadata": {},
     "output_type": "execute_result"
    }
   ],
   "source": [
    "import gc\n",
    "gc.collect()"
   ]
  },
  {
   "cell_type": "code",
   "execution_count": 5,
   "id": "ac0c202e-088d-45c0-86fa-8317a0109bb0",
   "metadata": {},
   "outputs": [
    {
     "name": "stderr",
     "output_type": "stream",
     "text": [
      "/opt/homebrew/lib/python3.10/site-packages/torchvision/models/_utils.py:208: UserWarning: The parameter 'pretrained' is deprecated since 0.13 and will be removed in 0.15, please use 'weights' instead.\n",
      "  warnings.warn(\n",
      "/opt/homebrew/lib/python3.10/site-packages/torchvision/models/_utils.py:223: UserWarning: Arguments other than a weight enum or `None` for 'weights' are deprecated since 0.13 and will be removed in 0.15. The current behavior is equivalent to passing `weights=ResNet101_Weights.IMAGENET1K_V1`. You can also use `weights=ResNet101_Weights.DEFAULT` to get the most up-to-date weights.\n",
      "  warnings.warn(msg)\n"
     ]
    }
   ],
   "source": [
    "model = ResNet_extractor().to(device)\n",
    "data_transform = transforms.Compose([transforms.Resize(224),\n",
    "                                     transforms.ToTensor(),\n",
    "                                     transforms.Normalize(mean=[0.485, 0.456, 0.406], std=[0.229, 0.224, 0.225])])"
   ]
  },
  {
   "cell_type": "code",
   "execution_count": 6,
   "id": "b8c4bb8f-9b40-473e-b5a4-963f79ef489a",
   "metadata": {},
   "outputs": [
    {
     "name": "stdout",
     "output_type": "stream",
     "text": [
      "Adding to feature directory...\n"
     ]
    }
   ],
   "source": [
    "feature_dir = '../features/'\n",
    "if os.path.exists(feature_dir):\n",
    "    print(\"Adding to feature directory...\")\n",
    "else:\n",
    "    os.mkdir(feature_dir)"
   ]
  },
  {
   "cell_type": "code",
   "execution_count": 7,
   "id": "0baf3a92-f377-4bd6-910a-d5ee4a0691af",
   "metadata": {},
   "outputs": [
    {
     "data": {
      "text/plain": [
       "['TCGA-DK-A2I6-01']"
      ]
     },
     "execution_count": 7,
     "metadata": {},
     "output_type": "execute_result"
    }
   ],
   "source": [
    "patient_info_file = '../patient_id_all.txt'\n",
    "with open(patient_info_file, 'r') as f:\n",
    "    patient_list = f.read().splitlines()\n",
    "patient_list"
   ]
  },
  {
   "cell_type": "code",
   "execution_count": 8,
   "id": "69f4036c-1e74-488b-8a05-e49dcf16ee77",
   "metadata": {},
   "outputs": [
    {
     "name": "stdout",
     "output_type": "stream",
     "text": [
      "images shape is  torch.Size([64, 3, 224, 224])\n",
      "torch.Size([64, 2048, 1, 1])\n",
      "torch.Size([64, 2048])\n",
      "images shape is  torch.Size([64, 3, 224, 224])\n",
      "torch.Size([64, 2048, 1, 1])\n",
      "torch.Size([64, 2048])\n",
      "images shape is  torch.Size([64, 3, 224, 224])\n",
      "torch.Size([64, 2048, 1, 1])\n",
      "torch.Size([64, 2048])\n",
      "images shape is  torch.Size([64, 3, 224, 224])\n",
      "torch.Size([64, 2048, 1, 1])\n",
      "torch.Size([64, 2048])\n",
      "images shape is  torch.Size([64, 3, 224, 224])\n",
      "torch.Size([64, 2048, 1, 1])\n",
      "torch.Size([64, 2048])\n",
      "images shape is  torch.Size([64, 3, 224, 224])\n",
      "torch.Size([64, 2048, 1, 1])\n",
      "torch.Size([64, 2048])\n",
      "images shape is  torch.Size([64, 3, 224, 224])\n",
      "torch.Size([64, 2048, 1, 1])\n",
      "torch.Size([64, 2048])\n",
      "images shape is  torch.Size([64, 3, 224, 224])\n",
      "torch.Size([64, 2048, 1, 1])\n",
      "torch.Size([64, 2048])\n",
      "images shape is  torch.Size([64, 3, 224, 224])\n",
      "torch.Size([64, 2048, 1, 1])\n",
      "torch.Size([64, 2048])\n",
      "images shape is  torch.Size([64, 3, 224, 224])\n",
      "torch.Size([64, 2048, 1, 1])\n",
      "torch.Size([64, 2048])\n",
      "images shape is  torch.Size([64, 3, 224, 224])\n",
      "torch.Size([64, 2048, 1, 1])\n",
      "torch.Size([64, 2048])\n",
      "images shape is  torch.Size([64, 3, 224, 224])\n",
      "torch.Size([64, 2048, 1, 1])\n",
      "torch.Size([64, 2048])\n",
      "images shape is  torch.Size([64, 3, 224, 224])\n",
      "torch.Size([64, 2048, 1, 1])\n",
      "torch.Size([64, 2048])\n",
      "images shape is  torch.Size([64, 3, 224, 224])\n",
      "torch.Size([64, 2048, 1, 1])\n",
      "torch.Size([64, 2048])\n",
      "images shape is  torch.Size([64, 3, 224, 224])\n",
      "torch.Size([64, 2048, 1, 1])\n",
      "torch.Size([64, 2048])\n",
      "images shape is  torch.Size([64, 3, 224, 224])\n",
      "torch.Size([64, 2048, 1, 1])\n",
      "torch.Size([64, 2048])\n",
      "images shape is  torch.Size([64, 3, 224, 224])\n",
      "torch.Size([64, 2048, 1, 1])\n",
      "torch.Size([64, 2048])\n",
      "images shape is  torch.Size([64, 3, 224, 224])\n",
      "torch.Size([64, 2048, 1, 1])\n",
      "torch.Size([64, 2048])\n",
      "images shape is  torch.Size([64, 3, 224, 224])\n",
      "torch.Size([64, 2048, 1, 1])\n",
      "torch.Size([64, 2048])\n",
      "images shape is  torch.Size([64, 3, 224, 224])\n",
      "torch.Size([64, 2048, 1, 1])\n",
      "torch.Size([64, 2048])\n",
      "images shape is  torch.Size([64, 3, 224, 224])\n",
      "torch.Size([64, 2048, 1, 1])\n",
      "torch.Size([64, 2048])\n",
      "images shape is  torch.Size([64, 3, 224, 224])\n",
      "torch.Size([64, 2048, 1, 1])\n",
      "torch.Size([64, 2048])\n",
      "images shape is  torch.Size([64, 3, 224, 224])\n",
      "torch.Size([64, 2048, 1, 1])\n",
      "torch.Size([64, 2048])\n",
      "images shape is  torch.Size([64, 3, 224, 224])\n",
      "torch.Size([64, 2048, 1, 1])\n",
      "torch.Size([64, 2048])\n",
      "images shape is  torch.Size([64, 3, 224, 224])\n",
      "torch.Size([64, 2048, 1, 1])\n",
      "torch.Size([64, 2048])\n",
      "images shape is  torch.Size([64, 3, 224, 224])\n",
      "torch.Size([64, 2048, 1, 1])\n",
      "torch.Size([64, 2048])\n",
      "images shape is  torch.Size([64, 3, 224, 224])\n",
      "torch.Size([64, 2048, 1, 1])\n",
      "torch.Size([64, 2048])\n",
      "images shape is  torch.Size([64, 3, 224, 224])\n",
      "torch.Size([64, 2048, 1, 1])\n",
      "torch.Size([64, 2048])\n",
      "images shape is  torch.Size([64, 3, 224, 224])\n",
      "torch.Size([64, 2048, 1, 1])\n",
      "torch.Size([64, 2048])\n",
      "images shape is  torch.Size([64, 3, 224, 224])\n",
      "torch.Size([64, 2048, 1, 1])\n",
      "torch.Size([64, 2048])\n",
      "images shape is  torch.Size([64, 3, 224, 224])\n",
      "torch.Size([64, 2048, 1, 1])\n",
      "torch.Size([64, 2048])\n",
      "images shape is  torch.Size([64, 3, 224, 224])\n",
      "torch.Size([64, 2048, 1, 1])\n",
      "torch.Size([64, 2048])\n",
      "images shape is  torch.Size([64, 3, 224, 224])\n",
      "torch.Size([64, 2048, 1, 1])\n",
      "torch.Size([64, 2048])\n",
      "images shape is  torch.Size([64, 3, 224, 224])\n",
      "torch.Size([64, 2048, 1, 1])\n",
      "torch.Size([64, 2048])\n",
      "images shape is  torch.Size([64, 3, 224, 224])\n",
      "torch.Size([64, 2048, 1, 1])\n",
      "torch.Size([64, 2048])\n",
      "images shape is  torch.Size([64, 3, 224, 224])\n",
      "torch.Size([64, 2048, 1, 1])\n",
      "torch.Size([64, 2048])\n",
      "images shape is  torch.Size([64, 3, 224, 224])\n",
      "torch.Size([64, 2048, 1, 1])\n",
      "torch.Size([64, 2048])\n",
      "images shape is  torch.Size([64, 3, 224, 224])\n",
      "torch.Size([64, 2048, 1, 1])\n",
      "torch.Size([64, 2048])\n",
      "images shape is  torch.Size([64, 3, 224, 224])\n",
      "torch.Size([64, 2048, 1, 1])\n",
      "torch.Size([64, 2048])\n",
      "images shape is  torch.Size([64, 3, 224, 224])\n",
      "torch.Size([64, 2048, 1, 1])\n",
      "torch.Size([64, 2048])\n",
      "images shape is  torch.Size([64, 3, 224, 224])\n",
      "torch.Size([64, 2048, 1, 1])\n",
      "torch.Size([64, 2048])\n",
      "images shape is  torch.Size([64, 3, 224, 224])\n",
      "torch.Size([64, 2048, 1, 1])\n",
      "torch.Size([64, 2048])\n",
      "images shape is  torch.Size([64, 3, 224, 224])\n",
      "torch.Size([64, 2048, 1, 1])\n",
      "torch.Size([64, 2048])\n",
      "images shape is  torch.Size([64, 3, 224, 224])\n",
      "torch.Size([64, 2048, 1, 1])\n",
      "torch.Size([64, 2048])\n",
      "images shape is  torch.Size([64, 3, 224, 224])\n",
      "torch.Size([64, 2048, 1, 1])\n",
      "torch.Size([64, 2048])\n",
      "images shape is  torch.Size([64, 3, 224, 224])\n",
      "torch.Size([64, 2048, 1, 1])\n",
      "torch.Size([64, 2048])\n",
      "images shape is  torch.Size([64, 3, 224, 224])\n",
      "torch.Size([64, 2048, 1, 1])\n",
      "torch.Size([64, 2048])\n",
      "images shape is  torch.Size([64, 3, 224, 224])\n",
      "torch.Size([64, 2048, 1, 1])\n",
      "torch.Size([64, 2048])\n",
      "images shape is  torch.Size([64, 3, 224, 224])\n",
      "torch.Size([64, 2048, 1, 1])\n",
      "torch.Size([64, 2048])\n",
      "images shape is  torch.Size([64, 3, 224, 224])\n",
      "torch.Size([64, 2048, 1, 1])\n",
      "torch.Size([64, 2048])\n",
      "images shape is  torch.Size([64, 3, 224, 224])\n",
      "torch.Size([64, 2048, 1, 1])\n",
      "torch.Size([64, 2048])\n",
      "images shape is  torch.Size([64, 3, 224, 224])\n",
      "torch.Size([64, 2048, 1, 1])\n",
      "torch.Size([64, 2048])\n",
      "images shape is  torch.Size([64, 3, 224, 224])\n",
      "torch.Size([64, 2048, 1, 1])\n",
      "torch.Size([64, 2048])\n",
      "images shape is  torch.Size([64, 3, 224, 224])\n",
      "torch.Size([64, 2048, 1, 1])\n",
      "torch.Size([64, 2048])\n",
      "images shape is  torch.Size([64, 3, 224, 224])\n",
      "torch.Size([64, 2048, 1, 1])\n",
      "torch.Size([64, 2048])\n",
      "images shape is  torch.Size([64, 3, 224, 224])\n",
      "torch.Size([64, 2048, 1, 1])\n",
      "torch.Size([64, 2048])\n",
      "images shape is  torch.Size([64, 3, 224, 224])\n",
      "torch.Size([64, 2048, 1, 1])\n",
      "torch.Size([64, 2048])\n",
      "images shape is  torch.Size([64, 3, 224, 224])\n",
      "torch.Size([64, 2048, 1, 1])\n",
      "torch.Size([64, 2048])\n",
      "images shape is  torch.Size([64, 3, 224, 224])\n",
      "torch.Size([64, 2048, 1, 1])\n",
      "torch.Size([64, 2048])\n",
      "images shape is  torch.Size([64, 3, 224, 224])\n",
      "torch.Size([64, 2048, 1, 1])\n",
      "torch.Size([64, 2048])\n",
      "images shape is  torch.Size([64, 3, 224, 224])\n",
      "torch.Size([64, 2048, 1, 1])\n",
      "torch.Size([64, 2048])\n",
      "images shape is  torch.Size([64, 3, 224, 224])\n",
      "torch.Size([64, 2048, 1, 1])\n",
      "torch.Size([64, 2048])\n",
      "images shape is  torch.Size([64, 3, 224, 224])\n",
      "torch.Size([64, 2048, 1, 1])\n",
      "torch.Size([64, 2048])\n",
      "images shape is  torch.Size([64, 3, 224, 224])\n",
      "torch.Size([64, 2048, 1, 1])\n",
      "torch.Size([64, 2048])\n",
      "images shape is  torch.Size([64, 3, 224, 224])\n",
      "torch.Size([64, 2048, 1, 1])\n",
      "torch.Size([64, 2048])\n",
      "images shape is  torch.Size([64, 3, 224, 224])\n",
      "torch.Size([64, 2048, 1, 1])\n",
      "torch.Size([64, 2048])\n",
      "images shape is  torch.Size([64, 3, 224, 224])\n",
      "torch.Size([64, 2048, 1, 1])\n",
      "torch.Size([64, 2048])\n",
      "images shape is  torch.Size([64, 3, 224, 224])\n",
      "torch.Size([64, 2048, 1, 1])\n",
      "torch.Size([64, 2048])\n",
      "images shape is  torch.Size([64, 3, 224, 224])\n",
      "torch.Size([64, 2048, 1, 1])\n",
      "torch.Size([64, 2048])\n",
      "images shape is  torch.Size([64, 3, 224, 224])\n",
      "torch.Size([64, 2048, 1, 1])\n",
      "torch.Size([64, 2048])\n",
      "images shape is  torch.Size([64, 3, 224, 224])\n",
      "torch.Size([64, 2048, 1, 1])\n",
      "torch.Size([64, 2048])\n",
      "images shape is  torch.Size([64, 3, 224, 224])\n",
      "torch.Size([64, 2048, 1, 1])\n",
      "torch.Size([64, 2048])\n",
      "images shape is  torch.Size([64, 3, 224, 224])\n",
      "torch.Size([64, 2048, 1, 1])\n",
      "torch.Size([64, 2048])\n",
      "images shape is  torch.Size([64, 3, 224, 224])\n",
      "torch.Size([64, 2048, 1, 1])\n",
      "torch.Size([64, 2048])\n",
      "images shape is  torch.Size([64, 3, 224, 224])\n",
      "torch.Size([64, 2048, 1, 1])\n",
      "torch.Size([64, 2048])\n",
      "images shape is  torch.Size([64, 3, 224, 224])\n",
      "torch.Size([64, 2048, 1, 1])\n",
      "torch.Size([64, 2048])\n",
      "images shape is  torch.Size([64, 3, 224, 224])\n",
      "torch.Size([64, 2048, 1, 1])\n",
      "torch.Size([64, 2048])\n",
      "images shape is  torch.Size([64, 3, 224, 224])\n",
      "torch.Size([64, 2048, 1, 1])\n",
      "torch.Size([64, 2048])\n",
      "images shape is  torch.Size([5, 3, 224, 224])\n",
      "torch.Size([5, 2048, 1, 1])\n",
      "torch.Size([5, 2048])\n"
     ]
    }
   ],
   "source": [
    "root_dir = Path('../tile_data/')\n",
    "save_dir = '../features/'\n",
    "batch = 64\n",
    "feature_list = []\n",
    "# with torch.cuda.device(0):\n",
    "for patient in patient_list:\n",
    "    patient_tile_dir = root_dir/patient\n",
    "    file = [x for x in patient_tile_dir.iterdir() if x.is_file()]\n",
    "    file.sort()\n",
    "    imgs = []\n",
    "    for i in range(0, (len(file)//batch)+1, 1):\n",
    "        img_batch = []\n",
    "        start = i*batch\n",
    "        end = (i+1)*batch if (i+1)*batch < len(file) else len(file)\n",
    "        for j in range(start, end, 1):\n",
    "            img = Image.open(file[j]).convert('RGB') \n",
    "            img = data_transform(img).unsqueeze(0) # 1, 3, 224, 224\n",
    "            img_batch.append(img)\n",
    "        images = torch.concat(img_batch, dim=0)\n",
    "        print(\"images shape is \", images.shape)\n",
    "#         assert images.shape[0] == batch\n",
    "        features = model(images.to(device))\n",
    "        print(features.shape)\n",
    "        feature_list.append(features.detach().cpu().numpy())\n",
    "        del features\n",
    "    feature_list = np.concatenate(feature_list, axis=0)\n",
    "    dest = os.path.join(save_dir, patient+'.npy')\n",
    "    np.save(dest, feature_list)\n",
    "    "
   ]
  },
  {
   "cell_type": "code",
   "execution_count": 10,
   "id": "2d71bd15-15c3-4a5f-b109-7922d66dd314",
   "metadata": {},
   "outputs": [
    {
     "data": {
      "text/plain": [
       "(4997, 2048)"
      ]
     },
     "execution_count": 10,
     "metadata": {},
     "output_type": "execute_result"
    }
   ],
   "source": [
    "feature_list.shape"
   ]
  },
  {
   "cell_type": "code",
   "execution_count": 20,
   "id": "6275531f",
   "metadata": {},
   "outputs": [],
   "source": [
    "# dest = os.path.join(save_dir, patient+'.npy')\n",
    "# np.save(dest, n)"
   ]
  },
  {
   "cell_type": "code",
   "execution_count": null,
   "id": "8329da46",
   "metadata": {},
   "outputs": [],
   "source": []
  }
 ],
 "metadata": {
  "environment": {
   "kernel": "python3",
   "name": "common-cu110.m91",
   "type": "gcloud",
   "uri": "gcr.io/deeplearning-platform-release/base-cu110:m91"
  },
  "kernelspec": {
   "display_name": "Python 3 (ipykernel)",
   "language": "python",
   "name": "python3"
  },
  "language_info": {
   "codemirror_mode": {
    "name": "ipython",
    "version": 3
   },
   "file_extension": ".py",
   "mimetype": "text/x-python",
   "name": "python",
   "nbconvert_exporter": "python",
   "pygments_lexer": "ipython3",
   "version": "3.10.8"
  }
 },
 "nbformat": 4,
 "nbformat_minor": 5
}
