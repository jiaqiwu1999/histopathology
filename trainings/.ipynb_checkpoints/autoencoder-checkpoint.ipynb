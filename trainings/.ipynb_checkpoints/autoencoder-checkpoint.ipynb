{
 "cells": [
  {
   "cell_type": "code",
   "execution_count": null,
   "id": "6fd3157d-7c84-42b4-9fcb-e4d25759bbda",
   "metadata": {},
   "outputs": [],
   "source": [
    "import torch\n",
    "from torch import nn\n",
    "from torchvision import models as torch_models\n",
    "import torchvision.transforms as transforms\n",
    "import numpy as np\n",
    "import os\n",
    "from PIL import Image\n",
    "\n",
    "# Copied from GeneMutationFromHE - used for feature_extractor\n",
    "class ResNet_extractor(nn.Module):\n",
    "    def __init__(self, layers=101):\n",
    "        super().__init__()\n",
    "        if layers == 18:\n",
    "            self.resnet = torch_models.resnet18(pretrained=True)\n",
    "        elif layers == 34:\n",
    "            self.resnet = torch_models.resnet34(pretrained=True)\n",
    "        elif layers == 50:\n",
    "            self.resnet = torch_models.resnet50(pretrained=True)\n",
    "        elif layers == 101:\n",
    "            self.resnet = torch_models.resnet101(pretrained=True)\n",
    "        else:\n",
    "            raise(ValueError('Layers must be 18, 34, 50 or 101.'))\n",
    "\n",
    "    def forward(self, x):\n",
    "        x = self.resnet.conv1(x)\n",
    "        x = self.resnet.bn1(x)\n",
    "        x = self.resnet.relu(x)\n",
    "        x = self.resnet.maxpool(x)\n",
    "\n",
    "        x = self.resnet.layer1(x)\n",
    "        x = self.resnet.layer2(x)\n",
    "        x = self.resnet.layer3(x)\n",
    "        x = self.resnet.layer4(x)\n",
    "\n",
    "        x = self.resnet.avgpool(x)\n",
    "        x = torch.flatten(x, 1)\n",
    "        return x"
   ]
  }
 ],
 "metadata": {
  "environment": {
   "kernel": "python3",
   "name": "common-cu110.m91",
   "type": "gcloud",
   "uri": "gcr.io/deeplearning-platform-release/base-cu110:m91"
  },
  "kernelspec": {
   "display_name": "Python 3",
   "language": "python",
   "name": "python3"
  },
  "language_info": {
   "codemirror_mode": {
    "name": "ipython",
    "version": 3
   },
   "file_extension": ".py",
   "mimetype": "text/x-python",
   "name": "python",
   "nbconvert_exporter": "python",
   "pygments_lexer": "ipython3",
   "version": "3.7.12"
  }
 },
 "nbformat": 4,
 "nbformat_minor": 5
}
