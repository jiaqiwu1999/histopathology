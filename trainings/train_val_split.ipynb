{
 "cells": [
  {
   "cell_type": "code",
   "execution_count": 7,
   "id": "9392946d-3799-4209-93de-9fd00dd953a5",
   "metadata": {},
   "outputs": [],
   "source": [
    "import numpy as np\n",
    "import random"
   ]
  },
  {
   "cell_type": "code",
   "execution_count": 12,
   "id": "e0ef90eb-1311-4421-829d-9232ac63a885",
   "metadata": {},
   "outputs": [],
   "source": [
    "save_dir = 'data_split.npy'"
   ]
  },
  {
   "cell_type": "code",
   "execution_count": 4,
   "id": "5758d67d-2374-427d-a99f-75d48cc33c8b",
   "metadata": {},
   "outputs": [
    {
     "data": {
      "text/plain": [
       "['TCGA-A2-A25A',\n",
       " 'TCGA-D8-A1XW',\n",
       " 'TCGA-BH-A203',\n",
       " 'TCGA-D8-A27M',\n",
       " 'TCGA-AC-A2FO',\n",
       " 'TCGA-E2-A107',\n",
       " 'TCGA-AR-A0TP',\n",
       " 'TCGA-E9-A1R6',\n",
       " 'TCGA-A2-A04T',\n",
       " 'TCGA-A2-A25D',\n",
       " 'TCGA-BH-A18M',\n",
       " 'TCGA-E2-A14P',\n",
       " 'TCGA-C8-A27A',\n",
       " 'TCGA-GM-A2DD',\n",
       " 'TCGA-D8-A1JU',\n",
       " 'TCGA-E9-A5FK',\n",
       " 'TCGA-BH-A0HQ',\n",
       " 'TCGA-D8-A1JL',\n",
       " 'TCGA-A8-A08X']"
      ]
     },
     "execution_count": 4,
     "metadata": {},
     "output_type": "execute_result"
    }
   ],
   "source": [
    "with open('../all_patients.txt', 'r') as f:\n",
    "    p = f.read().splitlines()"
   ]
  },
  {
   "cell_type": "code",
   "execution_count": 8,
   "id": "b6a90d8c-4632-48a2-b04d-dcff17d57941",
   "metadata": {},
   "outputs": [],
   "source": [
    "random.shuffle(p)"
   ]
  },
  {
   "cell_type": "code",
   "execution_count": 9,
   "id": "15016d6e-11b7-439f-9291-f06b4211e709",
   "metadata": {},
   "outputs": [],
   "source": [
    "total = len(p)\n",
    "idx_train = int(0.7 * total)\n",
    "idx_val = int(0.85 * total)\n",
    "train = p[:idx_train]\n",
    "val = p[idx_train:idx_val]\n",
    "test = p[idx_val:]\n",
    "\n",
    "info = {'train': train, 'val': val, 'test': test}"
   ]
  },
  {
   "cell_type": "code",
   "execution_count": 10,
   "id": "6db7243e-b6d7-496d-ba5f-c4c9a944296e",
   "metadata": {},
   "outputs": [
    {
     "data": {
      "text/plain": [
       "['TCGA-BH-A203',\n",
       " 'TCGA-E9-A5FK',\n",
       " 'TCGA-AC-A2FO',\n",
       " 'TCGA-E2-A14P',\n",
       " 'TCGA-A2-A25A',\n",
       " 'TCGA-GM-A2DD',\n",
       " 'TCGA-BH-A18M',\n",
       " 'TCGA-AR-A0TP',\n",
       " 'TCGA-D8-A1XW',\n",
       " 'TCGA-D8-A1JU',\n",
       " 'TCGA-A2-A25D',\n",
       " 'TCGA-D8-A27M',\n",
       " 'TCGA-A2-A04T']"
      ]
     },
     "execution_count": 10,
     "metadata": {},
     "output_type": "execute_result"
    }
   ],
   "source": [
    "train"
   ]
  },
  {
   "cell_type": "code",
   "execution_count": 13,
   "id": "0969a0d2-38bd-472d-8b25-49670ec7005d",
   "metadata": {},
   "outputs": [],
   "source": [
    "np.save(save_dir, info, allow_pickle=False)"
   ]
  },
  {
   "cell_type": "code",
   "execution_count": 15,
   "id": "6e9c73e5-d020-4bb6-951f-825c9b714812",
   "metadata": {},
   "outputs": [],
   "source": [
    "p = np.load('data_split.npy', allow_pickle=False)"
   ]
  },
  {
   "cell_type": "code",
   "execution_count": 18,
   "id": "79bec755-0d4a-4637-8623-ca5c383c6fa9",
   "metadata": {},
   "outputs": [
    {
     "data": {
      "text/plain": [
       "{'train': ['TCGA-BH-A203',\n",
       "  'TCGA-E9-A5FK',\n",
       "  'TCGA-AC-A2FO',\n",
       "  'TCGA-E2-A14P',\n",
       "  'TCGA-A2-A25A',\n",
       "  'TCGA-GM-A2DD',\n",
       "  'TCGA-BH-A18M',\n",
       "  'TCGA-AR-A0TP',\n",
       "  'TCGA-D8-A1XW',\n",
       "  'TCGA-D8-A1JU',\n",
       "  'TCGA-A2-A25D',\n",
       "  'TCGA-D8-A27M',\n",
       "  'TCGA-A2-A04T'],\n",
       " 'val': ['TCGA-E2-A107', 'TCGA-BH-A0HQ', 'TCGA-C8-A27A'],\n",
       " 'test': ['TCGA-A8-A08X', 'TCGA-D8-A1JL', 'TCGA-E9-A1R6']}"
      ]
     },
     "execution_count": 18,
     "metadata": {},
     "output_type": "execute_result"
    }
   ],
   "source": [
    "p.item()"
   ]
  },
  {
   "cell_type": "code",
   "execution_count": 19,
   "id": "7694a347-739f-4ae3-acd0-c4d2ce4c5103",
   "metadata": {},
   "outputs": [
    {
     "data": {
      "text/plain": [
       "['TCGA-BH-A203',\n",
       " 'TCGA-E9-A5FK',\n",
       " 'TCGA-AC-A2FO',\n",
       " 'TCGA-E2-A14P',\n",
       " 'TCGA-A2-A25A',\n",
       " 'TCGA-GM-A2DD',\n",
       " 'TCGA-BH-A18M',\n",
       " 'TCGA-AR-A0TP',\n",
       " 'TCGA-D8-A1XW',\n",
       " 'TCGA-D8-A1JU',\n",
       " 'TCGA-A2-A25D',\n",
       " 'TCGA-D8-A27M',\n",
       " 'TCGA-A2-A04T']"
      ]
     },
     "execution_count": 19,
     "metadata": {},
     "output_type": "execute_result"
    }
   ],
   "source": [
    "p.item()['train']"
   ]
  },
  {
   "cell_type": "code",
   "execution_count": null,
   "id": "01cde02f-dd6f-473e-b94c-9285414133db",
   "metadata": {},
   "outputs": [],
   "source": []
  }
 ],
 "metadata": {
  "environment": {
   "kernel": "python3",
   "name": "common-cu110.m91",
   "type": "gcloud",
   "uri": "gcr.io/deeplearning-platform-release/base-cu110:m91"
  },
  "kernelspec": {
   "display_name": "Python 3 (ipykernel)",
   "language": "python",
   "name": "python3"
  },
  "language_info": {
   "codemirror_mode": {
    "name": "ipython",
    "version": 3
   },
   "file_extension": ".py",
   "mimetype": "text/x-python",
   "name": "python",
   "nbconvert_exporter": "python",
   "pygments_lexer": "ipython3",
   "version": "3.10.8"
  }
 },
 "nbformat": 4,
 "nbformat_minor": 5
}
