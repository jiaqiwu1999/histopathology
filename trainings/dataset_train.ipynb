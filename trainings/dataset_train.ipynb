{
 "cells": [
  {
   "cell_type": "code",
   "execution_count": 14,
   "id": "d835e269-5d1b-45b8-bb27-1a2d50285ab0",
   "metadata": {},
   "outputs": [],
   "source": [
    "import torch\n",
    "import os\n",
    "import pandas as pd\n",
    "import csv\n",
    "import glob\n",
    "from torch import nn\n",
    "from pathlib import Path\n",
    "from PIL import Image\n",
    "from torch.utils.data import Dataset, DataLoader\n",
    "from models import *\n",
    "from dataset import *"
   ]
  },
  {
   "cell_type": "markdown",
   "id": "3fd881e9",
   "metadata": {},
   "source": []
  },
  {
   "cell_type": "code",
   "execution_count": 5,
   "id": "5cbbdad3-9873-49ea-8b7d-326c4251046a",
   "metadata": {},
   "outputs": [
    {
     "name": "stdout",
     "output_type": "stream",
     "text": [
      "gpu found\n"
     ]
    }
   ],
   "source": [
    "if torch.cuda.is_available():\n",
    "    device='cuda:0'\n",
    "    print('gpu found')\n",
    "else:\n",
    "    device='cpu'"
   ]
  },
  {
   "cell_type": "code",
   "execution_count": 15,
   "id": "9fdabc28-fb4c-45e4-b620-def468be380b",
   "metadata": {},
   "outputs": [
    {
     "data": {
      "text/plain": [
       "143"
      ]
     },
     "execution_count": 15,
     "metadata": {},
     "output_type": "execute_result"
    }
   ],
   "source": [
    "import gc\n",
    "gc.collect()"
   ]
  },
  {
   "cell_type": "code",
   "execution_count": 21,
   "id": "a14f0182-d6f6-423a-90ea-4167fb1a4997",
   "metadata": {},
   "outputs": [],
   "source": [
    "N = 100"
   ]
  },
  {
   "cell_type": "code",
   "execution_count": 90,
   "id": "61d72304-b9c2-4e37-967c-879b14aaab23",
   "metadata": {},
   "outputs": [],
   "source": [
    "\n",
    "def train_epoch(train_loader, model, criterion, optimizer, val_loader):\n",
    "    model.train()\n",
    "    train_loss = 0.0\n",
    "    for i, (X, y) in enumerate(train_loader):\n",
    "        output = model(X)\n",
    "        loss = criterion(output, y)\n",
    "        train_loss += loss\n",
    "        loss.backward()\n",
    "        optimizer.step()\n",
    "        optimizer.zero_grad()\n",
    "        if i % 100 == 0:\n",
    "            print(f\"Training batch loss {train_loss}\")\n",
    "            \n",
    "    val_loss = 0.0\n",
    "    model.eval()     # Optional when not using Model Specific layer\n",
    "    for data, labels in val_loader:\n",
    "        if torch.cuda.is_available():\n",
    "            data, labels = data.cuda(), labels.cuda()\n",
    "        target = model(data)\n",
    "        loss = criterion(target,labels)\n",
    "        val_loss += loss\n",
    "        if i % 100 == 0:\n",
    "            print(f\"Training batch loss {val_loss}\")\n",
    "            \n",
    "\n",
    "    "
   ]
  },
  {
   "cell_type": "code",
   "execution_count": 18,
   "id": "c1e2d152-eb0a-454e-b290-6dd6f3808aae",
   "metadata": {},
   "outputs": [],
   "source": [
    "# TODO\n",
    "gene = 'TP53'\n",
    "patient_info_file = '../patient_id_all.txt'\n",
    "with open(patient_info_file, 'r') as f:\n",
    "    patient_list = f.read().splitlines()\n",
    "\n",
    "label_info_file = '../genomic_data/label_summary.json'\n",
    "with open(label_info_file, 'r') as f:\n",
    "    label_dict = json.load(f)\n",
    "\n",
    "feature_files = list(glob.glob('../features/*.npy'))\n",
    "    \n",
    "feature_dataset_train = tileFeatureDataset(feature_files, label_dict)"
   ]
  },
  {
   "cell_type": "code",
   "execution_count": null,
   "id": "4bf0bf81-9087-4ef4-ad95-8170297cfda4",
   "metadata": {},
   "outputs": [],
   "source": [
    "f, l = feature_dataset[0]\n",
    "f.shape"
   ]
  },
  {
   "cell_type": "code",
   "execution_count": null,
   "id": "b3a06fd2",
   "metadata": {},
   "outputs": [],
   "source": [
    "# Start training\n",
    "batch = 16\n",
    "data_loader_train = DataLoader(feature_dataset_train, batch_size=batch, shuffle=True)\n",
    "data_loader_val = DataLoader(feature_dataset_val, batch_size=batch, shuffle=True)\n",
    "# hyperparameters\n",
    "model = AttnClassifier.to(device)\n",
    "optimizer = torch.optim.Adam(model.parameters(), lr=0.001)\n",
    "criterion = nn.MSELoss()\n",
    "epoch = 10\n",
    "patients = 3\n",
    "\n",
    "for e in range(epochs):\n",
    "    train_loss = 0.0\n",
    "    model.train()     # Optional when not using Model Specific layer\n",
    "    for data, labels in data_loader_train:\n",
    "        if torch.cuda.is_available():\n",
    "            data, labels = data.cuda(), labels.cuda()\n",
    "        optimizer.zero_grad()\n",
    "        target = model(data)\n",
    "        loss = criterion(target,labels)\n",
    "        loss.backward()\n",
    "        optimizer.step()\n",
    "        train_loss += loss.item()\n",
    "    \n",
    "    valid_loss = 0.0\n",
    "    model.eval()     # Optional when not using Model Specific layer\n",
    "    for data, labels in data_loader_val:\n",
    "        if torch.cuda.is_available():\n",
    "            data, labels = data.cuda(), labels.cuda()\n",
    "        \n",
    "        target = model(data)\n",
    "        loss = criterion(target,labels)\n",
    "        valid_loss = loss.item() * data.size(0)\n",
    "\n",
    "    print(f'Epoch {e+1} \\t\\t Training Loss: {train_loss / len(trainloader)} \\t\\t Validation Loss: {valid_loss / len(validloader)}')\n",
    "    if min_valid_loss > valid_loss:\n",
    "        print(f'Validation Loss Decreased({min_valid_loss:.6f}--->{valid_loss:.6f}) \\t Saving The Model')\n",
    "        min_valid_loss = valid_loss\n",
    "        # Saving State Dict\n",
    "        torch.save(model.state_dict(), 'saved_model.pth')"
   ]
  },
  {
   "cell_type": "code",
   "execution_count": null,
   "id": "55e2d038-4558-4f6d-b04e-6b12c48d31c4",
   "metadata": {},
   "outputs": [],
   "source": []
  }
 ],
 "metadata": {
  "environment": {
   "kernel": "python3",
   "name": "common-cu110.m91",
   "type": "gcloud",
   "uri": "gcr.io/deeplearning-platform-release/base-cu110:m91"
  },
  "kernelspec": {
   "display_name": "Python 3 (ipykernel)",
   "language": "python",
   "name": "python3"
  },
  "language_info": {
   "codemirror_mode": {
    "name": "ipython",
    "version": 3
   },
   "file_extension": ".py",
   "mimetype": "text/x-python",
   "name": "python",
   "nbconvert_exporter": "python",
   "pygments_lexer": "ipython3",
   "version": "3.10.8"
  },
  "vscode": {
   "interpreter": {
    "hash": "b0fa6594d8f4cbf19f97940f81e996739fb7646882a419484c72d19e05852a7e"
   }
  }
 },
 "nbformat": 4,
 "nbformat_minor": 5
}
