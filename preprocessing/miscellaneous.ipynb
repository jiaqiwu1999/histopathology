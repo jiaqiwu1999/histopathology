{
 "cells": [
  {
   "cell_type": "code",
   "execution_count": 1,
   "id": "084946c2-81e3-49d6-a83c-7dbcec4d9532",
   "metadata": {},
   "outputs": [],
   "source": [
    "import json\n",
    "import os\n",
    "import numpy as np"
   ]
  },
  {
   "cell_type": "code",
   "execution_count": 7,
   "id": "716f6c7a-1765-45d9-9b35-b2f1ae57ae63",
   "metadata": {},
   "outputs": [],
   "source": [
    "n = np.load('../cluster_data/TCGA-2F-A9KR-01_clustering_results.npy', allow_pickle=True)"
   ]
  },
  {
   "cell_type": "code",
   "execution_count": 8,
   "id": "5669750f-2b11-4e1c-8351-e14a0493fd62",
   "metadata": {},
   "outputs": [
    {
     "data": {
      "text/plain": [
       "array({'cluster_high': array([ 144,  250,  751, ..., 9978, 9981, 9987]), 'cluster_low': array([  96,  196,  251, ..., 9996, 9997, 9998]), 'knn_img_c1': array([10036, 10053, 10054, ...,  9991,  9992,  9993]), 'knn_img_c2': array([  96,  144,  196, ..., 9996, 9997, 9998])},\n",
       "      dtype=object)"
      ]
     },
     "execution_count": 8,
     "metadata": {},
     "output_type": "execute_result"
    }
   ],
   "source": [
    "n"
   ]
  },
  {
   "cell_type": "code",
   "execution_count": 9,
   "id": "7ca24c34-5cad-4ac7-93a1-97dddb8c1e8b",
   "metadata": {},
   "outputs": [
    {
     "data": {
      "text/plain": [
       "array([ 144,  250,  751, ..., 9978, 9981, 9987])"
      ]
     },
     "execution_count": 9,
     "metadata": {},
     "output_type": "execute_result"
    }
   ],
   "source": [
    "high = n.item().get('cluster_high')\n",
    "high"
   ]
  },
  {
   "cell_type": "code",
   "execution_count": 10,
   "id": "d1018810-379a-4a2a-a7cb-0520d2d9b994",
   "metadata": {},
   "outputs": [
    {
     "name": "stdout",
     "output_type": "stream",
     "text": [
      "False\n"
     ]
    }
   ],
   "source": [
    "print(8597 in high)"
   ]
  },
  {
   "cell_type": "code",
   "execution_count": 11,
   "id": "14f25685-85fd-46f6-9598-29e5b9751a90",
   "metadata": {},
   "outputs": [
    {
     "data": {
      "text/plain": [
       "(124, 2048)"
      ]
     },
     "execution_count": 11,
     "metadata": {},
     "output_type": "execute_result"
    }
   ],
   "source": [
    "n = np.load('../features/TCGA-GC-A3WC-01.npy', allow_pickle=True)\n",
    "n.shape"
   ]
  },
  {
   "cell_type": "code",
   "execution_count": null,
   "id": "7be89a1e-8913-4fe2-844d-c14e81a21a8d",
   "metadata": {},
   "outputs": [],
   "source": []
  }
 ],
 "metadata": {
  "environment": {
   "kernel": "python3",
   "name": "common-cu110.m99",
   "type": "gcloud",
   "uri": "gcr.io/deeplearning-platform-release/base-cu110:m99"
  },
  "kernelspec": {
   "display_name": "Python 3",
   "language": "python",
   "name": "python3"
  },
  "language_info": {
   "codemirror_mode": {
    "name": "ipython",
    "version": 3
   },
   "file_extension": ".py",
   "mimetype": "text/x-python",
   "name": "python",
   "nbconvert_exporter": "python",
   "pygments_lexer": "ipython3",
   "version": "3.7.12"
  }
 },
 "nbformat": 4,
 "nbformat_minor": 5
}
