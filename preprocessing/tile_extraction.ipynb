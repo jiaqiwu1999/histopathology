{
 "cells": [
  {
   "cell_type": "code",
   "execution_count": 1,
   "id": "7ed1d04f-89f0-449d-bd25-579320a3ffb8",
   "metadata": {},
   "outputs": [],
   "source": [
    "import math\n",
    "import os\n",
    "import numpy as np\n",
    "import openslide\n",
    "import shutil\n",
    "from pathlib import Path\n",
    "from matplotlib import pyplot as plt\n",
    "from PIL import Image\n",
    "from openslide import OpenSlideError\n",
    "import pandas as pd\n",
    "import json\n",
    "# from scipy.ndimage.morphology import binary_fill_holes\n",
    "# from skimage.color import rgb2gray\n",
    "# from skimage.feature import canny\n",
    "# from skimage.morphology import binary_closing, binary_dilation, disk"
   ]
  },
  {
   "cell_type": "code",
   "execution_count": 2,
   "id": "9348895d-6880-464d-839a-47a069f6766a",
   "metadata": {},
   "outputs": [],
   "source": [
    "def open_one_slide(filename):\n",
    "    try:\n",
    "        slide = openslide.open_slide(filename)\n",
    "    except OpenSlideError:\n",
    "        slide = None\n",
    "    except FileNotFoundError:\n",
    "        slide = None\n",
    "    return slide\n",
    "\n",
    "def create_tile_generator(slide, tile_size, overlap):\n",
    "    generator = DeepZoomGenerator(slide, tile_size=tile_size, overlap=overlap, limit_bounds=True)\n",
    "    return generator\n",
    "\n",
    "\n",
    "# Determine 20x Magnification Zoom Level\n",
    "def get_20x_zoom_level(slide, generator):\n",
    "    highest_zoom_level = generator.level_count - 1  # 0-based indexing\n",
    "    # PROPERTY_NAME_OBJECTIVE_POWER:\n",
    "    try:\n",
    "        mag = int(slide.properties[openslide.PROPERTY_NAME_OBJECTIVE_POWER])\n",
    "        # `mag / 20` gives the downsampling factor between the slide's\n",
    "        # magnification and the desired 20x magnification.\n",
    "        # `(mag / 20) / 2` gives the zoom level offset from the highest\n",
    "        # resolution level, based on a 2x downsampling factor in the\n",
    "        # generator.\n",
    "        offset = math.floor((mag / 20) / 2)\n",
    "        level = highest_zoom_level - offset\n",
    "    except (ValueError, KeyError) as e:\n",
    "        # In case the slide magnification level is unknown, just\n",
    "        # use the highest resolution.\n",
    "        level = highest_zoom_level\n",
    "    return level\n",
    "\n",
    "def get_all_patient_slides(path):\n",
    "    slide_files = []\n",
    "    patient_ids = []\n",
    "    for x in path.iterdir():\n",
    "        if x.is_dir():\n",
    "            for y in x.iterdir():\n",
    "                slide_files.append(str(y))\n",
    "                name = str(y).split('/')[-1]\n",
    "                name = name.split('.')[0][:15]\n",
    "                patient_ids.append(name)\n",
    "    return slide_files, patient_ids"
   ]
  },
  {
   "cell_type": "code",
   "execution_count": 2,
   "id": "a29cb09f-52c9-4c85-bbf1-3f5d74027f71",
   "metadata": {},
   "outputs": [],
   "source": [
    "# Different function for tile extraction\n",
    "def get_tiles_from_generator(generator, cols, rows):\n",
    "    for col in range(cols):\n",
    "        for row in range(rows):\n",
    "            t = generator.get_tile(zoom, (col, row))\n",
    "            tile = rgb2gray(t)\n",
    "            # print(tile.shape)\n",
    "            tile = 1 - tile\n",
    "            # 8-bit depth complement, from 1 (dense tissue)\n",
    "            # to 0 (plain background).\n",
    "            tile = canny(tile)\n",
    "            tile = binary_closing(tile, disk(10))\n",
    "            tile = binary_dilation(tile, disk(10))\n",
    "            tile = binary_fill_holes(tile)\n",
    "            #print(tile)\n",
    "            #plt.imshow(tile)\n",
    "            #plt.show()\n",
    "            percentage = tile.mean()\n",
    "            if count == 100:\n",
    "                break\n",
    "            if percentage <= threshold:\n",
    "                print()\n",
    "                plt.imshow(t)\n",
    "                plt.show()\n",
    "                count += 1\n",
    "\n",
    "def get_tile_from_original_slide(slide, patch_size, target_mag, save_dir, patient_id):\n",
    "    print(\"Processing tile extraction for patient \", patient_id)\n",
    "    if ('aperio.AppMag' not in slide.properties):\n",
    "        return\n",
    "    magnification = float(slide.properties['aperio.AppMag'])\n",
    "    extract_patch_size = int(patch_size * magnification / target_mag)\n",
    "    w, h = slide.level_dimensions[0]\n",
    "    w = w // extract_patch_size * extract_patch_size\n",
    "    h = h // extract_patch_size * extract_patch_size\n",
    "    count = 0\n",
    "    num_patch = 0\n",
    "    if (save_dir/patient_id).exists():\n",
    "        shutil.rmtree(save_dir/patient_id)\n",
    "    (save_dir/patient_id).mkdir()\n",
    "    for i in range(0, w, extract_patch_size):\n",
    "        for j in range(0, h, extract_patch_size):\n",
    "            patch = slide.read_region((i, j), level=0, size=[extract_patch_size, extract_patch_size])\n",
    "            patch = patch.resize([patch_size, patch_size])\n",
    "            patch_gray = patch.convert('1')\n",
    "            ave_pixel_val = np.array(patch_gray).mean()\n",
    "            if ave_pixel_val < threshold:\n",
    "                num_patch += 1\n",
    "                img_name = patient_id + '_' + str(count).zfill(4) + '.png'\n",
    "                tile_name = save_dir/patient_id/img_name\n",
    "                patch.save(str(tile_name))\n",
    "            count += 1\n",
    "    # print(f\"Number of tissue patch is {num_patch}\")\n",
    "    # print(f\"Number of total patches is {count}\")\n",
    "    print(\"Finished processing -------\")\n"
   ]
  },
  {
   "cell_type": "code",
   "execution_count": 3,
   "id": "fdbdf783-1934-4804-8530-c44a0a435ba1",
   "metadata": {},
   "outputs": [],
   "source": [
    "# some globals, can be changed to customize\n",
    "target_mag = 20\n",
    "threshold = 200/255\n",
    "patch_size = 512\n",
    "num_tiles_per_person = 200\n",
    "data_dir = Path('../SVS_Raw/')"
   ]
  },
  {
   "cell_type": "code",
   "execution_count": 31,
   "id": "053d0701-541e-4e67-8c9f-36447e9239f9",
   "metadata": {},
   "outputs": [
    {
     "name": "stdout",
     "output_type": "stream",
     "text": [
      "23\n",
      "Found existing patients, adding to it...\n"
     ]
    }
   ],
   "source": [
    "folders = [x for x in data_dir.iterdir() if x.is_dir()]\n",
    "print(len(folders))\n",
    "all_slides = []\n",
    "all_patients = []\n",
    "for folder in folders:\n",
    "    curr_slide = list(folder.glob('*.svs'))[0]\n",
    "    slide_name = str(curr_slide)\n",
    "    curr_patient = slide_name.split('/')[-1][:15]\n",
    "    all_patients.append(curr_patient)\n",
    "    all_slides.append(slide_name)\n",
    "    \n",
    "if (Path('../all_patients_id.txt').exists()):\n",
    "    print(\"Found existing patients, adding to it...\")\n",
    "    with open('../all_patients_id.txt', 'r') as fread:\n",
    "        existing_patients = fread.read().split('\\n')\n",
    "        \n",
    "patients = all_patients + existing_patients\n",
    "\n",
    "\n",
    "patients = np.unique(patients)\n",
    "    \n",
    "with open('../all_patients_id.txt', 'w') as fwrite:\n",
    "    for p in patients:\n",
    "        fwrite.write(p)\n",
    "        fwrite.write('\\n')\n",
    "        \n",
    "save_dir_root = Path('../tile_data/')\n",
    "if not save_dir_root.exists():\n",
    "    #shutil.rmtree(save_dir_root)\n",
    "    save_dir_root.mkdir()\n"
   ]
  },
  {
   "cell_type": "code",
   "execution_count": 9,
   "id": "f978d36d-ce54-412c-b0e0-e049ae33e08f",
   "metadata": {},
   "outputs": [
    {
     "data": {
      "text/plain": [
       "['TCGA-2F-A9KW-01']"
      ]
     },
     "execution_count": 9,
     "metadata": {},
     "output_type": "execute_result"
    }
   ],
   "source": [
    "all_patients"
   ]
  },
  {
   "cell_type": "code",
   "execution_count": 10,
   "id": "e92d3031",
   "metadata": {},
   "outputs": [],
   "source": [
    "def get_thumbnail(save_dir, slide, patient_id, target_mg=20):\n",
    "\n",
    "    magnification = float(slide.properties['aperio.AppMag'])\n",
    "    print(magnification)\n",
    "\n",
    "    extract_patch_size = int(patch_size * magnification / target_mag)\n",
    "    print(extract_patch_size)\n",
    "    w, h = slide.level_dimensions[0]\n",
    "\n",
    "    th_w = int(w / extract_patch_size * 10)\n",
    "    th_h = int(h / extract_patch_size * 10)\n",
    "    thumbnail = slide.get_thumbnail((th_w, th_h))\n",
    "#     thumbnail_name = '{:s}/{:s}_thumbnail.png'.format(save_dir, slide_name)\n",
    "    save_path = os.path.join(save_dir, f\"thumbnail_{patient_id}.png\")\n",
    "    thumbnail.save(save_path)"
   ]
  },
  {
   "cell_type": "code",
   "execution_count": 13,
   "id": "bd59d9d1",
   "metadata": {},
   "outputs": [
    {
     "name": "stdout",
     "output_type": "stream",
     "text": [
      "40.0\n",
      "1024\n",
      "Processing tile extraction for patient  TCGA-2F-A9KW-01\n",
      "Finished processing -------\n"
     ]
    }
   ],
   "source": [
    "# example = \"../slide_data/TCGA-DK-A2I6-01/TCGA-DK-A2I6-01Z-00-DX1.7BF86D3B-D4F7-47F9-B021-7FD6B673A238.svs\"\n",
    "# slide = openslide.open_slide(str(example))\n",
    "# save_dir = Path('../tile_data/')\n",
    "# patient = 'TCGA-DK-A2I6-01'\n",
    "thumb_save_dir = '../thumbnail_data'\n",
    "for i in range(len(all_slides)):\n",
    "    slide = openslide.open_slide(str(all_slides[i]))\n",
    "    get_thumbnail(thumb_save_dir, slide, all_patients[i])\n",
    "    get_tile_from_original_slide(slide, patch_size, target_mag, save_dir_root, all_patients[i])"
   ]
  },
  {
   "cell_type": "code",
   "execution_count": 4,
   "id": "be68eb12",
   "metadata": {},
   "outputs": [
    {
     "ename": "JSONDecodeError",
     "evalue": "Expecting value: line 1 column 1 (char 0)",
     "output_type": "error",
     "traceback": [
      "\u001b[0;31m---------------------------------------------------------------------------\u001b[0m",
      "\u001b[0;31mJSONDecodeError\u001b[0m                           Traceback (most recent call last)",
      "\u001b[0;32m/tmp/ipykernel_4749/4234516086.py\u001b[0m in \u001b[0;36m<module>\u001b[0;34m\u001b[0m\n\u001b[1;32m      1\u001b[0m \u001b[0minfo\u001b[0m \u001b[0;34m=\u001b[0m \u001b[0;34m{\u001b[0m\u001b[0;34m}\u001b[0m\u001b[0;34m\u001b[0m\u001b[0;34m\u001b[0m\u001b[0m\n\u001b[1;32m      2\u001b[0m \u001b[0;32mwith\u001b[0m \u001b[0mopen\u001b[0m\u001b[0;34m(\u001b[0m\u001b[0;34m'../slide_info.json'\u001b[0m\u001b[0;34m,\u001b[0m \u001b[0;34m'r'\u001b[0m\u001b[0;34m)\u001b[0m \u001b[0;32mas\u001b[0m \u001b[0mfread\u001b[0m\u001b[0;34m:\u001b[0m\u001b[0;34m\u001b[0m\u001b[0;34m\u001b[0m\u001b[0m\n\u001b[0;32m----> 3\u001b[0;31m     \u001b[0minfo\u001b[0m \u001b[0;34m=\u001b[0m \u001b[0mjson\u001b[0m\u001b[0;34m.\u001b[0m\u001b[0mload\u001b[0m\u001b[0;34m(\u001b[0m\u001b[0mfread\u001b[0m\u001b[0;34m)\u001b[0m\u001b[0;34m\u001b[0m\u001b[0;34m\u001b[0m\u001b[0m\n\u001b[0m\u001b[1;32m      4\u001b[0m \u001b[0mfolders\u001b[0m \u001b[0;34m=\u001b[0m \u001b[0;34m[\u001b[0m\u001b[0mx\u001b[0m \u001b[0;32mfor\u001b[0m \u001b[0mx\u001b[0m \u001b[0;32min\u001b[0m \u001b[0mdata_dir\u001b[0m\u001b[0;34m.\u001b[0m\u001b[0miterdir\u001b[0m\u001b[0;34m(\u001b[0m\u001b[0;34m)\u001b[0m \u001b[0;32mif\u001b[0m \u001b[0mx\u001b[0m\u001b[0;34m.\u001b[0m\u001b[0mis_dir\u001b[0m\u001b[0;34m(\u001b[0m\u001b[0;34m)\u001b[0m\u001b[0;34m]\u001b[0m\u001b[0;34m\u001b[0m\u001b[0;34m\u001b[0m\u001b[0m\n\u001b[1;32m      5\u001b[0m \u001b[0mprint\u001b[0m\u001b[0;34m(\u001b[0m\u001b[0mlen\u001b[0m\u001b[0;34m(\u001b[0m\u001b[0mfolders\u001b[0m\u001b[0;34m)\u001b[0m\u001b[0;34m)\u001b[0m\u001b[0;34m\u001b[0m\u001b[0;34m\u001b[0m\u001b[0m\n",
      "\u001b[0;32m/opt/conda/lib/python3.7/json/__init__.py\u001b[0m in \u001b[0;36mload\u001b[0;34m(fp, cls, object_hook, parse_float, parse_int, parse_constant, object_pairs_hook, **kw)\u001b[0m\n\u001b[1;32m    294\u001b[0m         \u001b[0mcls\u001b[0m\u001b[0;34m=\u001b[0m\u001b[0mcls\u001b[0m\u001b[0;34m,\u001b[0m \u001b[0mobject_hook\u001b[0m\u001b[0;34m=\u001b[0m\u001b[0mobject_hook\u001b[0m\u001b[0;34m,\u001b[0m\u001b[0;34m\u001b[0m\u001b[0;34m\u001b[0m\u001b[0m\n\u001b[1;32m    295\u001b[0m         \u001b[0mparse_float\u001b[0m\u001b[0;34m=\u001b[0m\u001b[0mparse_float\u001b[0m\u001b[0;34m,\u001b[0m \u001b[0mparse_int\u001b[0m\u001b[0;34m=\u001b[0m\u001b[0mparse_int\u001b[0m\u001b[0;34m,\u001b[0m\u001b[0;34m\u001b[0m\u001b[0;34m\u001b[0m\u001b[0m\n\u001b[0;32m--> 296\u001b[0;31m         parse_constant=parse_constant, object_pairs_hook=object_pairs_hook, **kw)\n\u001b[0m\u001b[1;32m    297\u001b[0m \u001b[0;34m\u001b[0m\u001b[0m\n\u001b[1;32m    298\u001b[0m \u001b[0;34m\u001b[0m\u001b[0m\n",
      "\u001b[0;32m/opt/conda/lib/python3.7/json/__init__.py\u001b[0m in \u001b[0;36mloads\u001b[0;34m(s, encoding, cls, object_hook, parse_float, parse_int, parse_constant, object_pairs_hook, **kw)\u001b[0m\n\u001b[1;32m    346\u001b[0m             \u001b[0mparse_int\u001b[0m \u001b[0;32mis\u001b[0m \u001b[0;32mNone\u001b[0m \u001b[0;32mand\u001b[0m \u001b[0mparse_float\u001b[0m \u001b[0;32mis\u001b[0m \u001b[0;32mNone\u001b[0m \u001b[0;32mand\u001b[0m\u001b[0;34m\u001b[0m\u001b[0;34m\u001b[0m\u001b[0m\n\u001b[1;32m    347\u001b[0m             parse_constant is None and object_pairs_hook is None and not kw):\n\u001b[0;32m--> 348\u001b[0;31m         \u001b[0;32mreturn\u001b[0m \u001b[0m_default_decoder\u001b[0m\u001b[0;34m.\u001b[0m\u001b[0mdecode\u001b[0m\u001b[0;34m(\u001b[0m\u001b[0ms\u001b[0m\u001b[0;34m)\u001b[0m\u001b[0;34m\u001b[0m\u001b[0;34m\u001b[0m\u001b[0m\n\u001b[0m\u001b[1;32m    349\u001b[0m     \u001b[0;32mif\u001b[0m \u001b[0mcls\u001b[0m \u001b[0;32mis\u001b[0m \u001b[0;32mNone\u001b[0m\u001b[0;34m:\u001b[0m\u001b[0;34m\u001b[0m\u001b[0;34m\u001b[0m\u001b[0m\n\u001b[1;32m    350\u001b[0m         \u001b[0mcls\u001b[0m \u001b[0;34m=\u001b[0m \u001b[0mJSONDecoder\u001b[0m\u001b[0;34m\u001b[0m\u001b[0;34m\u001b[0m\u001b[0m\n",
      "\u001b[0;32m/opt/conda/lib/python3.7/json/decoder.py\u001b[0m in \u001b[0;36mdecode\u001b[0;34m(self, s, _w)\u001b[0m\n\u001b[1;32m    335\u001b[0m \u001b[0;34m\u001b[0m\u001b[0m\n\u001b[1;32m    336\u001b[0m         \"\"\"\n\u001b[0;32m--> 337\u001b[0;31m         \u001b[0mobj\u001b[0m\u001b[0;34m,\u001b[0m \u001b[0mend\u001b[0m \u001b[0;34m=\u001b[0m \u001b[0mself\u001b[0m\u001b[0;34m.\u001b[0m\u001b[0mraw_decode\u001b[0m\u001b[0;34m(\u001b[0m\u001b[0ms\u001b[0m\u001b[0;34m,\u001b[0m \u001b[0midx\u001b[0m\u001b[0;34m=\u001b[0m\u001b[0m_w\u001b[0m\u001b[0;34m(\u001b[0m\u001b[0ms\u001b[0m\u001b[0;34m,\u001b[0m \u001b[0;36m0\u001b[0m\u001b[0;34m)\u001b[0m\u001b[0;34m.\u001b[0m\u001b[0mend\u001b[0m\u001b[0;34m(\u001b[0m\u001b[0;34m)\u001b[0m\u001b[0;34m)\u001b[0m\u001b[0;34m\u001b[0m\u001b[0;34m\u001b[0m\u001b[0m\n\u001b[0m\u001b[1;32m    338\u001b[0m         \u001b[0mend\u001b[0m \u001b[0;34m=\u001b[0m \u001b[0m_w\u001b[0m\u001b[0;34m(\u001b[0m\u001b[0ms\u001b[0m\u001b[0;34m,\u001b[0m \u001b[0mend\u001b[0m\u001b[0;34m)\u001b[0m\u001b[0;34m.\u001b[0m\u001b[0mend\u001b[0m\u001b[0;34m(\u001b[0m\u001b[0;34m)\u001b[0m\u001b[0;34m\u001b[0m\u001b[0;34m\u001b[0m\u001b[0m\n\u001b[1;32m    339\u001b[0m         \u001b[0;32mif\u001b[0m \u001b[0mend\u001b[0m \u001b[0;34m!=\u001b[0m \u001b[0mlen\u001b[0m\u001b[0;34m(\u001b[0m\u001b[0ms\u001b[0m\u001b[0;34m)\u001b[0m\u001b[0;34m:\u001b[0m\u001b[0;34m\u001b[0m\u001b[0;34m\u001b[0m\u001b[0m\n",
      "\u001b[0;32m/opt/conda/lib/python3.7/json/decoder.py\u001b[0m in \u001b[0;36mraw_decode\u001b[0;34m(self, s, idx)\u001b[0m\n\u001b[1;32m    353\u001b[0m             \u001b[0mobj\u001b[0m\u001b[0;34m,\u001b[0m \u001b[0mend\u001b[0m \u001b[0;34m=\u001b[0m \u001b[0mself\u001b[0m\u001b[0;34m.\u001b[0m\u001b[0mscan_once\u001b[0m\u001b[0;34m(\u001b[0m\u001b[0ms\u001b[0m\u001b[0;34m,\u001b[0m \u001b[0midx\u001b[0m\u001b[0;34m)\u001b[0m\u001b[0;34m\u001b[0m\u001b[0;34m\u001b[0m\u001b[0m\n\u001b[1;32m    354\u001b[0m         \u001b[0;32mexcept\u001b[0m \u001b[0mStopIteration\u001b[0m \u001b[0;32mas\u001b[0m \u001b[0merr\u001b[0m\u001b[0;34m:\u001b[0m\u001b[0;34m\u001b[0m\u001b[0;34m\u001b[0m\u001b[0m\n\u001b[0;32m--> 355\u001b[0;31m             \u001b[0;32mraise\u001b[0m \u001b[0mJSONDecodeError\u001b[0m\u001b[0;34m(\u001b[0m\u001b[0;34m\"Expecting value\"\u001b[0m\u001b[0;34m,\u001b[0m \u001b[0ms\u001b[0m\u001b[0;34m,\u001b[0m \u001b[0merr\u001b[0m\u001b[0;34m.\u001b[0m\u001b[0mvalue\u001b[0m\u001b[0;34m)\u001b[0m \u001b[0;32mfrom\u001b[0m \u001b[0;32mNone\u001b[0m\u001b[0;34m\u001b[0m\u001b[0;34m\u001b[0m\u001b[0m\n\u001b[0m\u001b[1;32m    356\u001b[0m         \u001b[0;32mreturn\u001b[0m \u001b[0mobj\u001b[0m\u001b[0;34m,\u001b[0m \u001b[0mend\u001b[0m\u001b[0;34m\u001b[0m\u001b[0;34m\u001b[0m\u001b[0m\n",
      "\u001b[0;31mJSONDecodeError\u001b[0m: Expecting value: line 1 column 1 (char 0)"
     ]
    }
   ],
   "source": [
    "info = {}\n",
    "with open('../slide_info.json', 'r') as fread:\n",
    "    info = json.load(fread)\n",
    "folders = [x for x in data_dir.iterdir() if x.is_dir()]\n",
    "print(len(folders))\n",
    "all_slides = []\n",
    "all_patients = []\n",
    "for folder in folders:\n",
    "    curr_slide = list(folder.glob('*.svs'))[0]\n",
    "    slide_name = str(curr_slide)\n",
    "    curr_patient = slide_name.split('/')[-1][:15]\n",
    "    all_patients.append(curr_patient)\n",
    "    all_slides.append(slide_name)\n",
    "    \n",
    "for i in range(len(all_slides)):\n",
    "    if all_patients[i] not in info:\n",
    "        info[all_patients[i]] = {}\n",
    "        slide = openslide.open_slide(str(all_slides[i]))\n",
    "        magnification = float(slide.properties['aperio.AppMag'])\n",
    "        w, h = slide.level_dimensions[0]\n",
    "        info[all_patients[i]]['mag'] = magnification\n",
    "        info[all_patients[i]]['w'] = w\n",
    "        info[all_patients[i]]['h'] = h\n",
    "    \n",
    "with open('../slide_info.json', 'w') as fwrite:\n",
    "    json.dump(info, fwrite, indent=4)"
   ]
  },
  {
   "cell_type": "code",
   "execution_count": null,
   "id": "62809761-6a32-4ed6-87d1-38f4f49e6e0b",
   "metadata": {},
   "outputs": [],
   "source": []
  }
 ],
 "metadata": {
  "environment": {
   "kernel": "python3",
   "name": "common-cu110.m99",
   "type": "gcloud",
   "uri": "gcr.io/deeplearning-platform-release/base-cu110:m99"
  },
  "kernelspec": {
   "display_name": "Python 3",
   "language": "python",
   "name": "python3"
  },
  "language_info": {
   "codemirror_mode": {
    "name": "ipython",
    "version": 3
   },
   "file_extension": ".py",
   "mimetype": "text/x-python",
   "name": "python",
   "nbconvert_exporter": "python",
   "pygments_lexer": "ipython3",
   "version": "3.7.12"
  },
  "vscode": {
   "interpreter": {
    "hash": "b0fa6594d8f4cbf19f97940f81e996739fb7646882a419484c72d19e05852a7e"
   }
  }
 },
 "nbformat": 4,
 "nbformat_minor": 5
}
