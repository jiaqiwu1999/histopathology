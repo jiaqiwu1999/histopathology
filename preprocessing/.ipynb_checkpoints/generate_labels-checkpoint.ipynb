{
 "cells": [
  {
   "cell_type": "code",
   "execution_count": 1,
   "id": "52d25445-9eca-45d9-b2d4-21a15091ffda",
   "metadata": {},
   "outputs": [],
   "source": [
    "import pandas as pd\n",
    "import numpy as np\n",
    "import os\n",
    "import csv\n",
    "import json\n",
    "from pathlib import Path\n",
    "os.environ['cuda_visible_device'] = '0'\n"
   ]
  },
  {
   "cell_type": "code",
   "execution_count": 3,
   "id": "27ddc34d-6d66-4418-8a44-c0e4d4892011",
   "metadata": {},
   "outputs": [],
   "source": [
    "patient_id_file = Path('../all_patients_id.txt')\n",
    "patient_id = []\n",
    "with open(patient_id_file, 'r') as f:\n",
    "    patient_id = f.read().splitlines()"
   ]
  },
  {
   "cell_type": "code",
   "execution_count": 21,
   "id": "b4fe87b4",
   "metadata": {},
   "outputs": [
    {
     "name": "stdout",
     "output_type": "stream",
     "text": [
      "20531\n"
     ]
    }
   ],
   "source": [
    "label_file = '../genomic_data/mRNA expression z-scores relative to normal samples (log RNA Seq V2 RSEM).txt'\n",
    "label_pd = pd.read_csv(label_file, sep=\"\\t\", header=1)\n",
    "gene_of_interest = label_pd.SAMPLE_ID.values\n",
    "output = {}\n",
    "for patient in all_patients:\n",
    "    if p not in output:\n",
    "        output[p] = {}\n",
    "    for gene in gene_of_interest:\n",
    "        _row = label_pd[label_pd['SAMPLE_ID'] == gene]\n",
    "        label = _row.loc[:, patient].values[0]\n",
    "        output[p][gene] = label\n",
    "print(labels)"
   ]
  },
  {
   "cell_type": "code",
   "execution_count": 30,
   "id": "08b2372f-fe5e-4e49-b924-a74c41b77e26",
   "metadata": {},
   "outputs": [],
   "source": [
    "# header = ['id', 'label']\n",
    "# fname = f'../data/labels/label_{gene_name}.csv'\n",
    "# with open(fname, 'w', newline='') as myfile:\n",
    "#     writer = csv.DictWriter(myfile, fieldnames=header)\n",
    "#     writer.writeheader()\n",
    "#     writer.writerows(values)\n",
    "\n",
    "with open('../genomic_data/label_summary.json', 'w') as fwrite:\n",
    "    json.dump(output, fwrite, indent=4)"
   ]
  },
  {
   "cell_type": "code",
   "execution_count": null,
   "id": "7badb627-fcf7-47dd-a450-126703ceb827",
   "metadata": {},
   "outputs": [],
   "source": []
  }
 ],
 "metadata": {
  "environment": {
   "kernel": "python3",
   "name": "common-cu110.m99",
   "type": "gcloud",
   "uri": "gcr.io/deeplearning-platform-release/base-cu110:m99"
  },
  "kernelspec": {
   "display_name": "Python 3",
   "language": "python",
   "name": "python3"
  },
  "language_info": {
   "codemirror_mode": {
    "name": "ipython",
    "version": 3
   },
   "file_extension": ".py",
   "mimetype": "text/x-python",
   "name": "python",
   "nbconvert_exporter": "python",
   "pygments_lexer": "ipython3",
   "version": "3.7.12"
  },
  "vscode": {
   "interpreter": {
    "hash": "b0fa6594d8f4cbf19f97940f81e996739fb7646882a419484c72d19e05852a7e"
   }
  }
 },
 "nbformat": 4,
 "nbformat_minor": 5
}
