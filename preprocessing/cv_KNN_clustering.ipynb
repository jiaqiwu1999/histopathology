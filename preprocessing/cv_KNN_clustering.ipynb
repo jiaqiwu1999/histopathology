{
 "cells": [
  {
   "cell_type": "code",
   "execution_count": null,
   "id": "c0428343",
   "metadata": {},
   "outputs": [],
   "source": [
    "import cv2\n",
    "import numpy as np\n",
    "from pathlib import Path\n",
    "from scipy import ndimage\n",
    "from skimage import measure, color, io"
   ]
  },
  {
   "cell_type": "code",
   "execution_count": null,
   "id": "788a78d1",
   "metadata": {},
   "outputs": [],
   "source": [
    "# rotation, flip\n",
    "def flip(img, flag):\n",
    "    return cv2.flip(flag) # 0 -> vertical; 1 -> horizontal\n",
    "\n",
    "def rotate(img, theta):\n",
    "    angle = int(random.uniform(-theta, theta))\n",
    "    h,w = img.shape[:2]\n",
    "    M = cv2.getRotationMatrix2D((int(w/2), int(h/2)), angle, 1)\n",
    "    img = cv2.warpAffine(img, M, (w, h))\n",
    "    return img\n",
    "\n",
    "# brightness\n",
    "def brightness(img, low=0.2, high=2):\n",
    "    value = random.uniform(low, high)\n",
    "    hsv = cv2.cvtColor(img, cv2.COLOR_BGR2HSV)\n",
    "    hsv = np.array(hsv, dtype = np.float64)\n",
    "    hsv[:,:,1] = hsv[:,:,1]*value\n",
    "    hsv[:,:,1][hsv[:,:,1]>255]  = 255\n",
    "    hsv[:,:,2] = hsv[:,:,2]*value \n",
    "    hsv[:,:,2][hsv[:,:,2]>255]  = 255\n",
    "    hsv = np.array(hsv, dtype = np.uint8)\n",
    "    img = cv2.cvtColor(hsv, cv2.COLOR_HSV2BGR)\n",
    "    return img\n",
    "\n",
    "# sharpen\n",
    "def sharpen(img):\n",
    "    kernel = np.array([[0, -1, 0],\n",
    "                       [-1, 5,-1],\n",
    "                       [0, -1, 0]])\n",
    "    image_sharp = cv2.filter2D(src=im, ddepth=-1, kernel=kernel)\n",
    "    return image_sharp\n",
    "\n",
    "def blur(img, sig_x=0, sig_y=0):\n",
    "    blur = cv2.GaussianBlur(im,(5,5),sig_x, sig_y)\n",
    "    return blur"
   ]
  },
  {
   "cell_type": "code",
   "execution_count": null,
   "id": "1022a22a",
   "metadata": {},
   "outputs": [],
   "source": [
    "# morphology operation\n",
    "from skimage.color import rgb2hed\n",
    "from skimage.filters import threshold_otsu # seperate background & foreground\n",
    "from skimage.morphology import closing, opening, disk\n",
    "from skimage.io import imread\n",
    "import matplotlib.pyplot as plt\n",
    "from skimage.segmentation import mark_boundaries\n",
    "from skimage.segmentation import clear_border\n",
    "\n",
    "def waterShed(file_name, kernel_size=3, perc=0.2):\n",
    "    im = cv2.imread(file_name)\n",
    "    cells = im[:, :, 0]\n",
    "    hsv = cv2.cvtColor(im, cv2.COLOR_BGR2HSV)\n",
    "    cells = hsv[:, :, 1]\n",
    "    ret1, thresh = cv2.threshold(cells, 0, 255, cv2.THRESH_BINARY+cv2.THRESH_OTSU)\n",
    "    kernel = np.ones((kernel_size, kernel_size), np.uint8)\n",
    "    opening = cv2.morphologyEx(thresh, cv2.MORPH_OPEN, kernel, iterations=2)\n",
    "    opening = clear_border(opening)\n",
    "    #plt.imshow(opening, cmap='gray')\n",
    "    sure_bg = cv2.dilate(opening, kernel, iterations=5)\n",
    "    plt.imshow(sure_bg, cmap='gray')\n",
    "    dist_transform = cv2.distanceTransform(opening, cv2.DIST_L2, 5)\n",
    "#     plt.imshow(dist_transform, cmap='gray')\n",
    "#     plt.show()\n",
    "# #     print(dist_transform.max())\n",
    "    \n",
    "#     ret2, sure_fg = cv2.threshold(dist_transform, perc*dist_transform.max(), 255, 0)\n",
    "#     plt.imshow(sure_fg, cmap='gray')\n",
    "    \n",
    "#     sure_fg = np.uint8(sure_fg)\n",
    "#     sure_bg = np.uint8(sure_bg)\n",
    "#     unknown = cv2.subtract(sure_bg, sure_fg)\n",
    "#     plt.imshow(unknown, cmap='gray')\n",
    "    \n",
    "#     ret3, markers = cv2.connectedComponents(sure_fg)\n",
    "#     # kernel = cv2.getStructuringElement(cv2.MORPH_ELLIPSE, (5, 5))\n",
    "#     # marker = cv2.morphologyEx(marker, cv2.MORPH_OPEN, kernel)\n",
    "#     plt.imshow(markers)\n",
    "#     plt.show()\n",
    "    \n",
    "#     markers += 10\n",
    "#     markers[unknown==255] = 0 # unknown should label as 0\n",
    "# #     plt.imshow(markers, cmap='gray') # background has value of 10, unknown is 0, \n",
    "# #     plt.show()\n",
    "    \n",
    "#     markers = cv2.watershed(im, markers)\n",
    "#     im[markers==10] = [0, 255, 255] # yellow\n",
    "    #im2 = color.label2rgb(markers, bg_label=0)\n",
    "#     plt.imshow(im2)\n",
    "#     plt.imshow(im, cmap='gray')\n",
    "#     plt.show()\n",
    "    \n",
    "    \n",
    "    return dist_transform.max()"
   ]
  },
  {
   "cell_type": "code",
   "execution_count": null,
   "id": "40a57ce4",
   "metadata": {},
   "outputs": [],
   "source": [
    "example_tile = '../tile_data/TCGA-DK-A2I6-01/TCGA-DK-A2I6-01_0001.png'\n",
    "waterShed(example_tile)"
   ]
  },
  {
   "cell_type": "code",
   "execution_count": null,
   "id": "a1e4e974",
   "metadata": {
    "scrolled": true
   },
   "outputs": [],
   "source": [
    "\n",
    "example = Path('../tile_data/TCGA-DK-A2I6-01/')\n",
    "tiles = [x for x in example.iterdir() if x.is_file()]\n",
    "tiles.sort()\n",
    "tile_index = []\n",
    "for i in len(tiles):\n",
    "    num = int(str(tiles[i]).split('.')[0].split('_')[-1])\n",
    "    tile_index.append(num)\n",
    "print(tile_index[:5])\n",
    "tile_index = np.asarray(tiles)"
   ]
  },
  {
   "cell_type": "code",
   "execution_count": null,
   "id": "ce501f67",
   "metadata": {},
   "outputs": [],
   "source": [
    "stats = []\n",
    "for i in range(len(tiles)):\n",
    "    file = tiles[i]\n",
    "    dist = waterShed(str(file))\n",
    "    stats.append(dist)\n",
    "\n",
    "print(np.min(stats))\n",
    "# plt.imshow(tiles[np.argmin(stats)])\n",
    "print(np.max(stats))\n",
    "# plt.imshow(tiles[np.argmax(stats)])\n",
    "stats = np.asarray(stats)"
   ]
  },
  {
   "cell_type": "code",
   "execution_count": null,
   "id": "bd4a0033",
   "metadata": {},
   "outputs": [],
   "source": [
    "print(np.argwhere(np.asarray(stats) > np.min(stats) + 0.5 * (np.max(stats) - np.min(stats))))"
   ]
  },
  {
   "cell_type": "code",
   "execution_count": null,
   "id": "a2bcc76d",
   "metadata": {},
   "outputs": [],
   "source": [
    "high_perc = np.percentile(stats, 75)\n",
    "low_perc = np.percentile(stats, 25)"
   ]
  },
  {
   "cell_type": "code",
   "execution_count": null,
   "id": "b5d1077b",
   "metadata": {},
   "outputs": [],
   "source": [
    "cluster_high = tile_index[stats >= high_perc]\n",
    "cluster_low = tile_index[stats < high_perc]"
   ]
  },
  {
   "cell_type": "code",
   "execution_count": null,
   "id": "67974343",
   "metadata": {},
   "outputs": [],
   "source": [
    "cluster_high.shape"
   ]
  },
  {
   "cell_type": "code",
   "execution_count": null,
   "id": "9ca46e9a",
   "metadata": {},
   "outputs": [],
   "source": [
    "im = cv2.imread(str(tiles[311]))\n",
    "plt.imshow(im)"
   ]
  },
  {
   "cell_type": "code",
   "execution_count": null,
   "id": "3f6d101d",
   "metadata": {},
   "outputs": [],
   "source": [
    "# Watershed\n",
    "sure_bg = cv2.dilate(opening, kernel, iterations=5)\n",
    "plt.imshow(sure_bg, cmap='gray')"
   ]
  },
  {
   "cell_type": "code",
   "execution_count": null,
   "id": "df394644",
   "metadata": {},
   "outputs": [],
   "source": [
    "dist_transform = cv2.distanceTransform(opening, cv2.DIST_L2, 5)\n",
    "plt.imshow(dist_transform, cmap='gray')"
   ]
  },
  {
   "cell_type": "code",
   "execution_count": null,
   "id": "dc5ccaf1",
   "metadata": {},
   "outputs": [],
   "source": [
    "print(dist_transform.max())"
   ]
  },
  {
   "cell_type": "code",
   "execution_count": null,
   "id": "f1be65b2",
   "metadata": {},
   "outputs": [],
   "source": [
    "ret2, sure_fg = cv2.threshold(dist_transform, 0.2*dist_transform.max(), 255, 0)\n",
    "plt.imshow(sure_fg, cmap='gray')"
   ]
  },
  {
   "cell_type": "code",
   "execution_count": null,
   "id": "ea094a9f",
   "metadata": {},
   "outputs": [],
   "source": [
    "sure_fg = np.uint8(sure_fg)\n",
    "sure_bg = np.uint8(sure_bg)\n",
    "unknown = cv2.subtract(sure_bg, sure_fg)\n",
    "plt.imshow(unknown, cmap='gray')"
   ]
  },
  {
   "cell_type": "code",
   "execution_count": null,
   "id": "fed6f183",
   "metadata": {},
   "outputs": [],
   "source": [
    "ret3, markers = cv2.connectedComponents(sure_fg)\n",
    "# kernel = cv2.getStructuringElement(cv2.MORPH_ELLIPSE, (5, 5))\n",
    "# marker = cv2.morphologyEx(marker, cv2.MORPH_OPEN, kernel)\n",
    "plt.imshow(markers)"
   ]
  },
  {
   "cell_type": "code",
   "execution_count": null,
   "id": "e4c91295",
   "metadata": {},
   "outputs": [],
   "source": [
    "markers += 10\n",
    "markers[unknown==255] = 0 # unknown should label as 0\n",
    "plt.imshow(markers, cmap='gray') # background has value of 10, unknown is 0, "
   ]
  },
  {
   "cell_type": "markdown",
   "id": "f702f5dc",
   "metadata": {},
   "source": [
    "## KNN Attempts"
   ]
  },
  {
   "cell_type": "markdown",
   "id": "cb9ec72e",
   "metadata": {},
   "source": [
    "### Use Flattened Image "
   ]
  },
  {
   "cell_type": "code",
   "execution_count": null,
   "id": "56da83b2",
   "metadata": {},
   "outputs": [],
   "source": [
    "from PIL import Image\n",
    "from sklearn.cluster import KMeans\n",
    "example = Path('../tile_data/TCGA-DK-A2I6-01/')\n",
    "flattened = []\n",
    "index_list = tile_index\n",
    "for tile in tiles:\n",
    "    image = Image.open(tile)\n",
    "    image2 = image.resize((128, 128))   # for 512x512 patch\n",
    "    image2 = np.array(image2)[:, :, :3]\n",
    "    flattened.append(image2.flatten())\n",
    "#     index_list.append(tile) # name of tile\n",
    "\n",
    "flattened = np.asarray(flattened)\n",
    "flattened.shape"
   ]
  },
  {
   "cell_type": "code",
   "execution_count": null,
   "id": "a3275f1b",
   "metadata": {},
   "outputs": [],
   "source": [
    "\n",
    "kmeans = KMeans(n_clusters=2, random_state=0).fit(flattened)\n",
    "cluster1 = tile_index[kmeans.labels_ == 0]\n",
    "cluster2 = tiles_index[kmeans.labels_ == 1]\n",
    "\n",
    "print(cluster1.shape)\n",
    "print(cluster2.shape)"
   ]
  },
  {
   "cell_type": "code",
   "execution_count": null,
   "id": "653cd061",
   "metadata": {},
   "outputs": [],
   "source": [
    "cluster1[0]"
   ]
  },
  {
   "cell_type": "code",
   "execution_count": null,
   "id": "57a92b37",
   "metadata": {},
   "outputs": [],
   "source": [
    "cluster2[0]"
   ]
  },
  {
   "cell_type": "code",
   "execution_count": null,
   "id": "c033346d",
   "metadata": {},
   "outputs": [],
   "source": [
    "# Visualization\n",
    "label_1_img = cv2.cvtColor(cv2.imread(cluster1[2000]), cv2.COLOR_BGR2RGB)\n",
    "plt.imshow(label_1_img)\n",
    "plt.show()\n",
    "label_2_img = cv2.cvtColor(cv2.imread(cluster2[1000]), cv2.COLOR_BGR2RGB)\n",
    "plt.imshow(label_2_img)\n",
    "plt.show()"
   ]
  },
  {
   "cell_type": "markdown",
   "id": "61026801",
   "metadata": {},
   "source": [
    "### Use Feature Matrix"
   ]
  },
  {
   "cell_type": "code",
   "execution_count": null,
   "id": "9631f964",
   "metadata": {},
   "outputs": [],
   "source": [
    "features = np.load('../features/TCGA-DK-A2I6-01.npy', allow_pickle=True)\n",
    "features.shape"
   ]
  },
  {
   "cell_type": "code",
   "execution_count": null,
   "id": "923e668c",
   "metadata": {},
   "outputs": [],
   "source": [
    "kmeans = KMeans(n_clusters=2, random_state=0).fit(features)"
   ]
  },
  {
   "cell_type": "code",
   "execution_count": null,
   "id": "c7e1175e",
   "metadata": {},
   "outputs": [],
   "source": [
    "cluster3 = tile_index[kmeans.labels_ == 0]\n",
    "cluster4 = tile_index[kmeans.labels_ == 1]\n",
    "cluster3.shape[0] + cluster4.shape[0]"
   ]
  },
  {
   "cell_type": "code",
   "execution_count": null,
   "id": "6111b4db",
   "metadata": {},
   "outputs": [],
   "source": [
    "# Visualization\n",
    "import matplotlib.pyplot as plt\n",
    "label_1_img = cv2.cvtColor(cv2.imread(str(cluster1[2000])), cv2.COLOR_BGR2RGB)\n",
    "plt.imshow(label_1_img)\n",
    "plt.show()\n",
    "label_2_img = cv2.cvtColor(cv2.imread(str(cluster2[10])), cv2.COLOR_BGR2RGB)\n",
    "plt.imshow(label_2_img)\n",
    "plt.show()"
   ]
  },
  {
   "cell_type": "code",
   "execution_count": null,
   "id": "27a1a495",
   "metadata": {},
   "outputs": [],
   "source": [
    "clustering_results = {'cluster_high': cluster_high,\n",
    "                      'cluster_low': cluster_low,\n",
    "                      'cluster1': cluster1,\n",
    "                      'cluster2': cluster2,\n",
    "                      'cluster3': cluster3,\n",
    "                      'cluster4': cluster4\n",
    "                     }\n",
    "np.save('clustering_results_all.npy', clustering_results)"
   ]
  },
  {
   "cell_type": "markdown",
   "id": "16de6c1e",
   "metadata": {},
   "source": [
    "### Comparison & Intersections"
   ]
  },
  {
   "cell_type": "markdown",
   "id": "ebaf2473",
   "metadata": {},
   "source": [
    "### Image VS Feature KNN"
   ]
  },
  {
   "cell_type": "code",
   "execution_count": null,
   "id": "67f2e614",
   "metadata": {},
   "outputs": [],
   "source": [
    "label_one_intersect = np.intersect1d(cluster1, cluster3)\n",
    "print(f\"There are {label_one_intersect.shape} in intersection\")"
   ]
  },
  {
   "cell_type": "code",
   "execution_count": null,
   "id": "adfaa75c",
   "metadata": {},
   "outputs": [],
   "source": [
    "label_two_intersect = np.intersect1d(cluster2, cluster4)\n",
    "print(f\"There are {label_two_intersect.shape} in intersection\")"
   ]
  },
  {
   "cell_type": "code",
   "execution_count": null,
   "id": "bc5dd035",
   "metadata": {},
   "outputs": [],
   "source": [
    "diff = np.setdiff1d(cluster1, label_one_intersect)\n",
    "print(f\"There are {diff.shape} image only in cluster 1\")\n",
    "diff = np.setdiff1d(cluster3, label_one_intersect)\n",
    "print(f\"There are {diff.shape} image only in cluster 3\")"
   ]
  },
  {
   "cell_type": "code",
   "execution_count": null,
   "id": "6fc6bfa6",
   "metadata": {},
   "outputs": [],
   "source": [
    "diff = np.setdiff1d(cluster2, label_two_intersect)\n",
    "print(f\"There are {diff.shape} image only in cluster 2\")\n",
    "diff = np.setdiff1d(cluster4, label_two_intersect)\n",
    "print(f\"There are {diff.shape} image only in cluster 4\")"
   ]
  },
  {
   "cell_type": "code",
   "execution_count": null,
   "id": "93e2e26a",
   "metadata": {},
   "outputs": [],
   "source": []
  },
  {
   "cell_type": "markdown",
   "id": "eaa13943",
   "metadata": {},
   "source": [
    "### Distance Transform VS Image KNN"
   ]
  },
  {
   "cell_type": "code",
   "execution_count": null,
   "id": "53d86671",
   "metadata": {},
   "outputs": [],
   "source": []
  },
  {
   "cell_type": "code",
   "execution_count": null,
   "id": "cc925eb3",
   "metadata": {},
   "outputs": [],
   "source": []
  },
  {
   "cell_type": "code",
   "execution_count": null,
   "id": "dbf3c351",
   "metadata": {},
   "outputs": [],
   "source": []
  },
  {
   "cell_type": "code",
   "execution_count": null,
   "id": "c8fdc44a",
   "metadata": {},
   "outputs": [],
   "source": []
  },
  {
   "cell_type": "markdown",
   "id": "d3a099fe",
   "metadata": {},
   "source": [
    "### Projection of results"
   ]
  },
  {
   "cell_type": "code",
   "execution_count": null,
   "id": "b6bf6fd4",
   "metadata": {},
   "outputs": [],
   "source": [
    "import openslide\n",
    "def project_clustering_results(slide, cluster0, cluster1, cluster_method, thumbnail, color=(255, 255, 255),\n",
    "                               on_thumbnail=True):\n",
    "#     os.makedirs(save_dir, exist_ok=True)\n",
    "    patch_size = 512  # the size of patches extracted from 20x svs image\n",
    "    target_mag = 20\n",
    "\n",
    "    mag = int(slide.properties['aperio.AppMag'])\n",
    "    w, h = slide.level_dimensions[0]\n",
    "    extract_patch_size = int(patch_size * mag / target_mag)\n",
    "\n",
    "    N_patch_row = h // extract_patch_size\n",
    "    stride = round(float(thumbnail.shape[0]) / N_patch_row)\n",
    "\n",
    "    color_mask = np.ones(thumbnail.shape, dtype=np.float64) * 50.0 / 255\n",
    "    for j in range(0, thumbnail.shape[1], stride):\n",
    "        for i in range(0, thumbnail.shape[0], stride):\n",
    "            index = (j//stride) * N_patch_row + (i//stride) + 1\n",
    "            if index in cluster0:\n",
    "                color_mask[i:i + stride, j:j + stride, :] = np.array(color) * 0.5 / 255\n",
    "            elif index in cluster1:\n",
    "                color_mask[i:i + stride, j:j + stride, :] = np.array(color) / 255\n",
    "\n",
    "    if on_thumbnail:\n",
    "        thumbnail = thumbnail.astype(np.float64) / 255\n",
    "        result = thumbnail * color_mask\n",
    "    else:\n",
    "        result = color_mask\n",
    "\n",
    "    io.imsave('cluster_projection_{:s}.png'.format(cluster_method), (result*255).astype(np.uint8))"
   ]
  },
  {
   "cell_type": "code",
   "execution_count": null,
   "id": "630cd754",
   "metadata": {},
   "outputs": [],
   "source": [
    "thumbnail = io.imread('thumbnail_example.png')\n",
    "slide = openslide.open_slide('../slide_data/TCGA-DK-A2I6-01/TCGA-DK-A2I6-01Z-00-DX1.7BF86D3B-D4F7-47F9-B021-7FD6B673A238.svs')\n",
    "cluster_results = np.load('clustering_results_all.npy', allow_pickle=True)\n",
    "# print(cluster_results)\n",
    "cluster1 = cluster_results.item().get('cluster1')\n",
    "print(cluster1.shape)\n",
    "cluster2 = cluster_results.item().get('cluster2')\n",
    "project_clustering_results(slide, cluster1, cluster2, \"image_knn\", thumbnail)"
   ]
  },
  {
   "cell_type": "code",
   "execution_count": null,
   "id": "c40b3c96",
   "metadata": {},
   "outputs": [],
   "source": [
    "cluster3 = cluster_results.item().get('cluster3')\n",
    "cluster4 = cluster_results.item().get('cluster4')\n",
    "project_clustering_results(slide, cluster3, cluster4, \"feature_knn\", thumbnail)\n",
    "cluster_h = cluster_results.item().get('cluster_high')\n",
    "cluster_l = cluster_results.item().get('cluster_low')\n",
    "project_clustering_results(slide, cluster_h, cluster_l, \"distance_transform\", thumbnail)"
   ]
  },
  {
   "cell_type": "code",
   "execution_count": null,
   "id": "39be12ed",
   "metadata": {},
   "outputs": [],
   "source": []
  }
 ],
 "metadata": {
  "kernelspec": {
   "display_name": "Python 3 (ipykernel)",
   "language": "python",
   "name": "python3"
  },
  "language_info": {
   "codemirror_mode": {
    "name": "ipython",
    "version": 3
   },
   "file_extension": ".py",
   "mimetype": "text/x-python",
   "name": "python",
   "nbconvert_exporter": "python",
   "pygments_lexer": "ipython3",
   "version": "3.10.8"
  }
 },
 "nbformat": 4,
 "nbformat_minor": 5
}
