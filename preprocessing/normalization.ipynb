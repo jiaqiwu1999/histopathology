{
 "cells": [
  {
   "cell_type": "code",
   "execution_count": 13,
   "id": "fe46e5fe-2a3b-4d79-8260-4bc93b6544af",
   "metadata": {},
   "outputs": [],
   "source": [
    "import os\n",
    "import stainNorm_Reinhard\n",
    "from skimage import color, io\n",
    "import argparse\n",
    "import numpy as np\n",
    "import glob\n",
    "import pandas as pd\n",
    "from pathlib import Path\n",
    "from tqdm import tqdm\n",
    "import random\n",
    "import matplotlib.pyplot as plt"
   ]
  },
  {
   "cell_type": "code",
   "execution_count": 6,
   "id": "27bf955c-0e35-425a-bbc0-0c7f44cfb57c",
   "metadata": {},
   "outputs": [],
   "source": [
    "def compute_mean_std(data_path, file_list, ratio=1.0):\n",
    "    total_sum = np.zeros(3)  # total sum of all pixel values in each channel\n",
    "    total_square_sum = np.zeros(3)\n",
    "    num_pixel = 0  # total num of all pixels\n",
    "\n",
    "    random.shuffle(file_list)\n",
    "    N = len(file_list)\n",
    "    files_to_be_processed = file_list[:int(ratio*N)]\n",
    "\n",
    "    for file_name in files_to_be_processed:\n",
    "        img = io.imread(file_name)\n",
    "        img = img[:, :, :3]\n",
    "\n",
    "        img = color.rgb2lab(img)\n",
    "\n",
    "        total_sum += img.sum(axis=(0, 1))\n",
    "        total_square_sum += (img ** 2).sum(axis=(0, 1))\n",
    "        num_pixel += img.shape[0] * img.shape[1]\n",
    "\n",
    "    # compute the mean values of each channel\n",
    "    mean_values = total_sum / num_pixel\n",
    "    # compute the standard deviation\n",
    "    std_values = np.sqrt(total_square_sum / num_pixel - mean_values ** 2)\n",
    "\n",
    "    return mean_values, std_values"
   ]
  },
  {
   "cell_type": "code",
   "execution_count": 7,
   "id": "c346a082-d04f-45e9-adc5-52e4d9ec025b",
   "metadata": {},
   "outputs": [],
   "source": [
    "ref_slide = 'TCGA-XF-A9T3-01'\n",
    "ref_img_list = list(glob.glob(f'../tile_data/{ref_slide}/*.png'))"
   ]
  },
  {
   "cell_type": "code",
   "execution_count": 8,
   "id": "41e7ff82-1735-4f25-a2d5-f79f06f8812c",
   "metadata": {},
   "outputs": [
    {
     "name": "stdout",
     "output_type": "stream",
     "text": [
      "[59.9868545  25.69840703 -8.94006732] [18.25682416 10.91339319  8.73359523]\n"
     ]
    }
   ],
   "source": [
    "means, stds = compute_mean_std('../tile_data/{:s}/'.format(ref_slide, ref_slide), ref_img_list, ratio=0.2)\n",
    "# np.save(mean_std_file_path, np.array([means, stds]))\n",
    "print(means, stds)"
   ]
  },
  {
   "cell_type": "code",
   "execution_count": 9,
   "id": "2b4b36aa-f8bb-4ad3-86bb-cda3a86a72a5",
   "metadata": {},
   "outputs": [],
   "source": [
    "normalizer = stainNorm_Reinhard.normalizer(means, stds)"
   ]
  },
  {
   "cell_type": "code",
   "execution_count": 10,
   "id": "c58d7366-21a8-4b23-b683-530c339557f1",
   "metadata": {},
   "outputs": [],
   "source": [
    "def cluster_to_file(cluster, patient_id):\n",
    "    files = []\n",
    "    for num in cluster:\n",
    "        img_name = f'../tile_data/{patient_id}/'+ patient_id + '_' + str(num).zfill(4) + '.png'\n",
    "        files.append(img_name)\n",
    "    return files"
   ]
  },
  {
   "cell_type": "code",
   "execution_count": null,
   "id": "bc719b44-f57e-40f8-81cf-fdfe0818302e",
   "metadata": {},
   "outputs": [
    {
     "name": "stdout",
     "output_type": "stream",
     "text": [
      "--Normalizing for patient TCGA-GC-A3WC-01---\n",
      "---Finished Normalizing---\n",
      "--Normalizing for patient TCGA-XF-AAN8-01---\n",
      "---Finished Normalizing---\n",
      "--Normalizing for patient TCGA-DK-A3IT-01---\n",
      "---Finished Normalizing---\n",
      "--Normalizing for patient TCGA-XF-A9SK-01---\n",
      "---Finished Normalizing---\n",
      "--Normalizing for patient TCGA-ZF-A9R9-01---\n"
     ]
    }
   ],
   "source": [
    "with open('../all_patients_id.txt', 'r') as fread:\n",
    "    patients = fread.read().splitlines()\n",
    "    \n",
    "save_folder = Path('../normalized_data')\n",
    "if not save_folder.exists():\n",
    "    save_folder.mkdir()\n",
    "\n",
    "normalize_info = {}\n",
    "if Path('../normalized.json').exists():\n",
    "    with open('../normalized.json', 'r') as fr:\n",
    "        normalize_info = json.load(fr)\n",
    "\n",
    "    \n",
    "for patient in patients:\n",
    "    print(f'--Normalizing for patient {patient}---')\n",
    "    cluster_file = f'../cluster_data/{patient}_clustering_results.npy'\n",
    "    cluster = np.load(cluster_file, allow_pickle=True)\n",
    "    tumor_cluster = cluster.item().get('cluster_high')\n",
    "    tumor_img_list = cluster_to_file(tumor_cluster, patient)\n",
    "    \n",
    "    dest = save_folder/patient\n",
    "    \n",
    "    if dest.exists():\n",
    "        continue\n",
    "    \n",
    "    dest.mkdir()\n",
    "    slide_mean, slide_std = compute_mean_std('../tile_data/{:s}/'.format(patient), tumor_img_list, ratio=0.2)\n",
    "    \n",
    "    normalize_info[patient] = {'means': means, 'stds': stds}\n",
    "    for img_file in tumor_img_list:\n",
    "        img = io.imread(img_file)\n",
    "        img = img[:, :, :3]\n",
    "\n",
    "        # perform reinhard color normalization\n",
    "        img_normalized = normalizer.transform(img, slide_mean, slide_std)\n",
    "        \n",
    "        save_name = img_file.split('/')[-1]\n",
    "        io.imsave(dest/save_name, img_normalized)\n",
    "    print('---Finished Normalizing---')"
   ]
  },
  {
   "cell_type": "code",
   "execution_count": null,
   "id": "5b58f73d-da26-43a6-95d9-e06d0144403f",
   "metadata": {},
   "outputs": [],
   "source": [
    "with open('../normalized.json', 'w') as fwrite:\n",
    "    json.dump(normalize_info, fwrite, indent=4)"
   ]
  }
 ],
 "metadata": {
  "environment": {
   "kernel": "python3",
   "name": "common-cu110.m99",
   "type": "gcloud",
   "uri": "gcr.io/deeplearning-platform-release/base-cu110:m99"
  },
  "kernelspec": {
   "display_name": "Python 3",
   "language": "python",
   "name": "python3"
  },
  "language_info": {
   "codemirror_mode": {
    "name": "ipython",
    "version": 3
   },
   "file_extension": ".py",
   "mimetype": "text/x-python",
   "name": "python",
   "nbconvert_exporter": "python",
   "pygments_lexer": "ipython3",
   "version": "3.7.12"
  }
 },
 "nbformat": 4,
 "nbformat_minor": 5
}
