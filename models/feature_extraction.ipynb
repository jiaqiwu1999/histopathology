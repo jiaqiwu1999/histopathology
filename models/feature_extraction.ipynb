{
 "cells": [
  {
   "cell_type": "code",
   "execution_count": 1,
   "id": "df357d0e-21e1-4440-8e7c-d4889e63af0c",
   "metadata": {
    "tags": []
   },
   "outputs": [],
   "source": [
    "import numpy as np\n",
    "import os\n",
    "import torchvision.transforms as transforms\n",
    "from models import *\n",
    "from PIL import Image, ImageOps\n",
    "from imageio import imread\n",
    "from pathlib import Path\n",
    "from matplotlib import pyplot as plt\n",
    "\n",
    "os.environ['cuda_visible_devices'] = '0'"
   ]
  },
  {
   "cell_type": "code",
   "execution_count": 2,
   "id": "9fbb5c84-8942-4da5-bd55-88f0cf1b34a7",
   "metadata": {},
   "outputs": [
    {
     "name": "stdout",
     "output_type": "stream",
     "text": [
      "gpu found\n"
     ]
    }
   ],
   "source": [
    "if torch.cuda.is_available():\n",
    "    print(\"gpu found\")\n",
    "    device = 'cuda:0'"
   ]
  },
  {
   "cell_type": "code",
   "execution_count": 3,
   "id": "4af9bb0d-d69f-47d1-91a0-e8326f12f499",
   "metadata": {},
   "outputs": [],
   "source": [
    "torch.cuda.empty_cache()"
   ]
  },
  {
   "cell_type": "code",
   "execution_count": 4,
   "id": "bb3c73a1-a04a-4de0-b1bc-7fda0e3bdfcd",
   "metadata": {},
   "outputs": [
    {
     "data": {
      "text/plain": [
       "23"
      ]
     },
     "execution_count": 4,
     "metadata": {},
     "output_type": "execute_result"
    }
   ],
   "source": [
    "import gc\n",
    "gc.collect()"
   ]
  },
  {
   "cell_type": "code",
   "execution_count": 5,
   "id": "ac0c202e-088d-45c0-86fa-8317a0109bb0",
   "metadata": {},
   "outputs": [
    {
     "name": "stderr",
     "output_type": "stream",
     "text": [
      "/opt/conda/lib/python3.7/site-packages/torchvision/models/inception.py:48: FutureWarning: The default weight initialization of inception_v3 will be changed in future releases of torchvision. If you wish to keep the old behavior (which leads to long initialization times due to scipy/scipy#11299), please set init_weights=True.\n",
      "  FutureWarning,\n"
     ]
    }
   ],
   "source": [
    "model = Inception_Extractor().to(device)\n",
    "data_transform = transforms.Compose([transforms.Resize(224),\n",
    "                                     transforms.ToTensor(),\n",
    "                                     transforms.Normalize(mean=[0.485, 0.456, 0.406], std=[0.229, 0.224, 0.225])])"
   ]
  },
  {
   "cell_type": "code",
   "execution_count": 6,
   "id": "b8c4bb8f-9b40-473e-b5a4-963f79ef489a",
   "metadata": {},
   "outputs": [],
   "source": [
    "feature_dir = '../data/features/'\n",
    "if os.path.exists(feature_dir):\n",
    "    print(\"Adding to feature directory...\")\n",
    "else:\n",
    "    os.mkdir(feature_dir)"
   ]
  },
  {
   "cell_type": "code",
   "execution_count": 7,
   "id": "0baf3a92-f377-4bd6-910a-d5ee4a0691af",
   "metadata": {},
   "outputs": [],
   "source": [
    "patient_info_file = '../data/patients_ids.txt'\n",
    "with open(patient_info_file, 'r') as f:\n",
    "    patient_list = f.read().splitlines()"
   ]
  },
  {
   "cell_type": "code",
   "execution_count": 8,
   "id": "69f4036c-1e74-488b-8a05-e49dcf16ee77",
   "metadata": {},
   "outputs": [
    {
     "name": "stdout",
     "output_type": "stream",
     "text": [
      "torch.Size([200, 2048])\n",
      "torch.Size([200, 2048])\n",
      "torch.Size([200, 2048])\n",
      "torch.Size([200, 2048])\n",
      "torch.Size([185, 2048])\n",
      "torch.Size([200, 2048])\n",
      "torch.Size([200, 2048])\n",
      "torch.Size([200, 2048])\n",
      "torch.Size([200, 2048])\n",
      "torch.Size([200, 2048])\n",
      "torch.Size([200, 2048])\n",
      "torch.Size([200, 2048])\n",
      "torch.Size([200, 2048])\n",
      "torch.Size([200, 2048])\n",
      "torch.Size([200, 2048])\n",
      "torch.Size([200, 2048])\n",
      "torch.Size([200, 2048])\n",
      "torch.Size([200, 2048])\n",
      "torch.Size([200, 2048])\n"
     ]
    }
   ],
   "source": [
    "root_dir = Path('../data/tiles/')\n",
    "save_dir = '../data/features/'\n",
    "# with torch.cuda.device(0):\n",
    "for patient in patient_list:\n",
    "    patient_tile_dir = root_dir/patient\n",
    "    file = [x for x in patient_tile_dir.iterdir() if x.is_file()]\n",
    "    imgs = []\n",
    "    for f in file:\n",
    "        img = Image.open(f).convert('RGB') \n",
    "        img = data_transform(img).unsqueeze(0) # 1, 3, 224, 224\n",
    "        imgs.append(img)\n",
    "    images = torch.concat(imgs, dim=0)\n",
    "    #print(images.shape)\n",
    "    features = model(images.to(device))\n",
    "    print(features.shape)\n",
    "    dest = os.path.join(save_dir, patient+'.npy')\n",
    "    #np.save(dest, features.detach().cpu().numpy())\n",
    "    np.save(dest, features.detach().cpu().numpy())\n",
    "    del features"
   ]
  },
  {
   "cell_type": "code",
   "execution_count": 5,
   "id": "2d71bd15-15c3-4a5f-b109-7922d66dd314",
   "metadata": {},
   "outputs": [
    {
     "data": {
      "text/plain": [
       "torch.Size([5, 2048])"
      ]
     },
     "execution_count": 5,
     "metadata": {},
     "output_type": "execute_result"
    }
   ],
   "source": [
    "features.shape"
   ]
  },
  {
   "cell_type": "code",
   "execution_count": null,
   "id": "5155be17-de4b-4eff-9fce-a53e35798d6b",
   "metadata": {},
   "outputs": [],
   "source": [
    "dataset = Dataloader()"
   ]
  }
 ],
 "metadata": {
  "environment": {
   "kernel": "python3",
   "name": "common-cu110.m91",
   "type": "gcloud",
   "uri": "gcr.io/deeplearning-platform-release/base-cu110:m91"
  },
  "kernelspec": {
   "display_name": "Python 3",
   "language": "python",
   "name": "python3"
  },
  "language_info": {
   "codemirror_mode": {
    "name": "ipython",
    "version": 3
   },
   "file_extension": ".py",
   "mimetype": "text/x-python",
   "name": "python",
   "nbconvert_exporter": "python",
   "pygments_lexer": "ipython3",
   "version": "3.7.12"
  }
 },
 "nbformat": 4,
 "nbformat_minor": 5
}
